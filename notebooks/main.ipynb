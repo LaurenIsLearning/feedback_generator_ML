{
  "nbformat": 4,
  "nbformat_minor": 0,
  "metadata": {
    "colab": {
      "provenance": []
    },
    "kernelspec": {
      "name": "python3",
      "display_name": "Python 3"
    },
    "language_info": {
      "name": "python"
    }
  },
  "cells": [
    {
      "cell_type": "markdown",
      "source": [
        "# Main Feedback Generation Notebook\n",
        "This notebook handles preprocessing, model interaction, and feedback generation."
      ],
      "metadata": {
        "id": "ulDLZT4fNver"
      }
    },
    {
      "cell_type": "markdown",
      "source": [
        "**--Set up: Github, Paths, Imports**"
      ],
      "metadata": {
        "id": "FHsp7J0HplsS"
      }
    },
    {
      "cell_type": "code",
      "execution_count": null,
      "metadata": {
        "id": "eCtHty9DikFr",
        "collapsed": true
      },
      "outputs": [],
      "source": [
        "# Mount Google Drive (optional, you'll get a prompt to authorize account)\n",
        "# from google.colab import drive\n",
        "# drive.mount('/content/drive')\n",
        "\n",
        "# Start in root Colab directory to avoid nesting\n",
        "%cd /content\n",
        "\n",
        "# Clone your GitHub repo (replace with your actual repo URL)\n",
        "!git clone https://github.com/ML-name/project.git\n",
        "%cd project\n",
        "\n",
        "# List all branches (optional, for checking)\n",
        "!git branch -a"
      ]
    },
    {
      "cell_type": "code",
      "source": [
        "# Checkout YOUR branch (!!replace \"your-branch-name\"!!)\n",
        "!git checkout -b your-branch-name origin/your-branch-name"
      ],
      "metadata": {
        "id": "8Wkd42jki1Sj"
      },
      "execution_count": null,
      "outputs": []
    },
    {
      "cell_type": "code",
      "source": [
        "# Add your src folder to the Python path\n",
        "import sys\n",
        "sys.path.append('/content/project/src')\n",
        "\n",
        "# import data path for loading files\n",
        "import os\n",
        "# Base data directory\n",
        "data_base = '/content/project/data'\n",
        "# Paths to specific subfolders\n",
        "raw_data_path = os.path.join(data_base, 'raw')\n",
        "processed_data_path = os.path.join(data_base, 'processed')"
      ],
      "metadata": {
        "id": "znN3vJE_i3Rm"
      },
      "execution_count": null,
      "outputs": []
    },
    {
      "cell_type": "markdown",
      "source": [
        "**--Install required libraries**"
      ],
      "metadata": {
        "id": "H_3ukDxmpsiK"
      }
    },
    {
      "cell_type": "code",
      "source": [
        "# docx library for Document (intalls as 'docx')\n",
        "!pip install bayoo-docx"
      ],
      "metadata": {
        "id": "-jkz-KdWpQnk"
      },
      "execution_count": null,
      "outputs": []
    },
    {
      "cell_type": "markdown",
      "source": [
        "**--Import modules (youre working on)**\n",
        "<br>*each of our classes will be what will merge to this notebook (im p sure)*\n",
        "<br>only loads what you explicitly request\n",
        "<br>(this helps keep memory low and import fast)\n",
        "<br> *the following is an example with my Rubric module*"
      ],
      "metadata": {
        "id": "n6U7apAmpXla"
      }
    },
    {
      "cell_type": "code",
      "source": [
        "# REPLACE with YOURS :)\n",
        "from preprocess_docx.rubric import parse_rubric, Rubric"
      ],
      "metadata": {
        "id": "RRdoHlvYlOpo"
      },
      "execution_count": null,
      "outputs": []
    },
    {
      "cell_type": "code",
      "source": [
        "# (replace with yours) to confirm everything is working\n",
        "rubric = Rubric()\n",
        "print(\"Rubric initialized:\", rubric)"
      ],
      "metadata": {
        "id": "meKe0637xkMq"
      },
      "execution_count": null,
      "outputs": []
    },
    {
      "cell_type": "markdown",
      "source": [
        "[[***Remember to save your files!! (both notebook and python file)***\n",
        "<br>use google drive or save locally to where your GitHub files are to later commit!\n",
        "<br>and it's **highly recommended to clear output before pushing to GitHub**,\n",
        "<br>this will help with merge conflicts and easy peer review.]]\n",
        "<br>*(Edit >> Clear all outputs)*"
      ],
      "metadata": {
        "id": "LzYoCCO_ykd8"
      }
    },
    {
      "cell_type": "markdown",
      "source": [
        "# -----------------Preprocessing Section---------------------------"
      ],
      "metadata": {
        "id": "poENheqqL1z9"
      }
    },
    {
      "cell_type": "code",
      "source": [
        "# preprocess all data here\n",
        "# create paths for submissions, requirements\n",
        "# ex. rubric = parse_rubric(submission_doc)"
      ],
      "metadata": {
        "id": "y_tX7My1O1XM"
      },
      "execution_count": null,
      "outputs": []
    },
    {
      "cell_type": "markdown",
      "source": [
        "# -----------------Model Interface & Feedback Section---------------------------"
      ],
      "metadata": {
        "id": "xK84Je2DOgrk"
      }
    },
    {
      "cell_type": "code",
      "source": [
        "# prompt building and geedback generation"
      ],
      "metadata": {
        "id": "ZwZkounGOvq7"
      },
      "execution_count": null,
      "outputs": []
    },
    {
      "cell_type": "markdown",
      "source": [
        "# ----------------Gradio or Output UI---------------------------"
      ],
      "metadata": {
        "id": "J-DhINaiOnVe"
      }
    },
    {
      "cell_type": "code",
      "source": [
        "# to wrap into a gradio app"
      ],
      "metadata": {
        "id": "Ar0OSDa4Oscv"
      },
      "execution_count": null,
      "outputs": []
    }
  ]
}