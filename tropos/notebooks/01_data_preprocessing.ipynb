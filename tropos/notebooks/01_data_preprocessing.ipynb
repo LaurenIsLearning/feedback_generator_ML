{
  "nbformat": 4,
  "nbformat_minor": 0,
  "metadata": {
    "colab": {
      "provenance": []
    },
    "kernelspec": {
      "name": "python3",
      "display_name": "Python 3"
    },
    "language_info": {
      "name": "python"
    }
  },
  "cells": [
    {
      "cell_type": "markdown",
      "source": [
        "**--Connect to drive, github, branch, src**"
      ],
      "metadata": {
        "id": "FHsp7J0HplsS"
      }
    },
    {
      "cell_type": "code",
      "execution_count": null,
      "metadata": {
        "id": "eCtHty9DikFr",
        "collapsed": true
      },
      "outputs": [],
      "source": [
        "# Mount Google Drive (optional, you'll get a prompt to authorize account)\n",
        "# from google.colab import drive\n",
        "# drive.mount('/content/drive')\n",
        "\n",
        "# Start in root Colab directory to avoid nesting\n",
        "%cd /content\n",
        "\n",
        "# Clone your GitHub repo (replace with your actual repo URL)\n",
        "!git clone https://github.com/ML-name/project.git\n",
        "%cd project\n",
        "\n",
        "# List all branches (optional, for checking)\n",
        "!git branch -a"
      ]
    },
    {
      "cell_type": "code",
      "source": [
        "# Checkout YOUR branch (!!replace \"your-branch-name\"!!)\n",
        "!git checkout -b your-branch-name origin/your-branch-name"
      ],
      "metadata": {
        "id": "8Wkd42jki1Sj"
      },
      "execution_count": null,
      "outputs": []
    },
    {
      "cell_type": "code",
      "source": [
        "# Add your src folder to the Python path\n",
        "import sys\n",
        "sys.path.append('/content/project/tropos/src')\n",
        "\n",
        "# import data path for loading files\n",
        "import os\n",
        "data_path = os.path.join('/content/project/tropos/data', 'raw')"
      ],
      "metadata": {
        "id": "znN3vJE_i3Rm"
      },
      "execution_count": null,
      "outputs": []
    },
    {
      "cell_type": "markdown",
      "source": [
        "**--Install required libraries**"
      ],
      "metadata": {
        "id": "H_3ukDxmpsiK"
      }
    },
    {
      "cell_type": "code",
      "source": [
        "# docx library for Document\n",
        "!pip install python-docx"
      ],
      "metadata": {
        "id": "-jkz-KdWpQnk"
      },
      "execution_count": null,
      "outputs": []
    },
    {
      "cell_type": "markdown",
      "source": [
        "**--Import class youre working on**\n",
        "<br>*each of our classes will be what will merge to this notebook (im p sure)*\n",
        "<br>only loads what you explicitly request\n",
        "<br>(this helps keep memory low and import fast)"
      ],
      "metadata": {
        "id": "n6U7apAmpXla"
      }
    },
    {
      "cell_type": "markdown",
      "source": [
        "**-- *(example with mine)* Rubric Class**"
      ],
      "metadata": {
        "id": "m9QcifWwyBMi"
      }
    },
    {
      "cell_type": "code",
      "source": [
        "# REPLACE with YOURS :)\n",
        "from preprocess_docx.rubric import parse_rubric, Rubric"
      ],
      "metadata": {
        "id": "RRdoHlvYlOpo"
      },
      "execution_count": null,
      "outputs": []
    },
    {
      "cell_type": "code",
      "source": [
        "# (replace with yours) to confirm everything is working\n",
        "rubric = Rubric()\n",
        "print(\"Rubric initialized:\", rubric)"
      ],
      "metadata": {
        "id": "meKe0637xkMq"
      },
      "execution_count": null,
      "outputs": []
    },
    {
      "cell_type": "markdown",
      "source": [
        "[[Remember to save your files\n",
        "<br>and it's **highly recommended to clear output before pushing to GitHub**,\n",
        "<br>this will help with merge conflicts and easy peer review.]]\n",
        "<br>*(Edit >> Clear all outputs)*"
      ],
      "metadata": {
        "id": "LzYoCCO_ykd8"
      }
    }
  ]
}