{
 "cells": [
  {
   "cell_type": "code",
   "execution_count": null,
   "id": "bbcd2d00",
   "metadata": {},
   "outputs": [],
   "source": [
    "!pip install openai gradio\n",
    "import openai\n",
    "import gradio as gr"
   ]
  },
  {
   "cell_type": "code",
   "execution_count": null,
   "id": "121c8a0f",
   "metadata": {},
   "outputs": [],
   "source": [
    "# Memory and feedback storage\n",
    "import json\n",
    "import os\n",
    "import re\n",
    "from tropos.io_fields import OutputFields, InputFields"
   ]
  },
  {
   "cell_type": "code",
   "execution_count": null,
   "id": "0160ebb2",
   "metadata": {},
   "outputs": [],
   "source": [
    "ON_GOOGLE_COLAB = False"
   ]
  },
  {
   "cell_type": "code",
   "execution_count": null,
   "id": "10de454f",
   "metadata": {
    "lines_to_next_cell": 2
   },
   "outputs": [],
   "source": [
    "if ON_GOOGLE_COLAB:\n",
    "    from google.colab import userdata\n",
    "\n",
    "    # Obtain chatbot API\n",
    "    openai.api_key = userdata.get(\"ChatGPT\")"
   ]
  },
  {
   "cell_type": "code",
   "execution_count": null,
   "id": "93c43f4a",
   "metadata": {},
   "outputs": [],
   "source": [
    "TEMPERATURE = 0.7\n",
    "OPEN_AI_MODEL = \"gpt-4o\""
   ]
  },
  {
   "cell_type": "code",
   "execution_count": null,
   "id": "62e50ab0",
   "metadata": {},
   "outputs": [],
   "source": [
    "\"\"\"# Memory and feedback storage to CSV\"\"\""
   ]
  },
  {
   "cell_type": "markdown",
   "id": "fadeeb79",
   "metadata": {},
   "source": [
    "# Future implementation, too complicated for this moment. using json cache for now"
   ]
  },
  {
   "cell_type": "code",
   "execution_count": null,
   "id": "413d7ec4",
   "metadata": {},
   "outputs": [],
   "source": [
    "\"\"\"# Assignment Requirements w/Cache\"\"\""
   ]
  },
  {
   "cell_type": "code",
   "execution_count": null,
   "id": "5fb413ad",
   "metadata": {},
   "outputs": [],
   "source": [
    "# Requirements summary cache (to avoid multiple API calls)\n",
    "REQUIREMENTS_CACHE_FILE = \"requirements_cache.json\""
   ]
  },
  {
   "cell_type": "code",
   "execution_count": null,
   "id": "7ff0421e",
   "metadata": {},
   "outputs": [],
   "source": [
    "def load_cache():\n",
    "    \"\"\"Load the requirements cache from a file\"\"\"\n",
    "    if os.path.exists(REQUIREMENTS_CACHE_FILE):\n",
    "        with open(REQUIREMENTS_CACHE_FILE, \"r\") as file:\n",
    "            return json.load(file)\n",
    "    return {}"
   ]
  },
  {
   "cell_type": "code",
   "execution_count": null,
   "id": "00a7697f",
   "metadata": {},
   "outputs": [],
   "source": [
    "def save_cache(cache):\n",
    "    \"\"\"Save the requirements cache to a file\"\"\"\n",
    "    with open(REQUIREMENTS_CACHE_FILE, \"w\") as file:\n",
    "        json.dump(cache, file)"
   ]
  },
  {
   "cell_type": "code",
   "execution_count": null,
   "id": "4399de9e",
   "metadata": {},
   "outputs": [],
   "source": [
    "# Retrieve or create the requirements\n",
    "def get_or_store_requirements(assignment_id: str, requirements_text: str):\n",
    "    \"\"\"Retrieve a cached summary or generate a new one if missing\"\"\"\n",
    "\n",
    "    # Validate if assignment_id is given\n",
    "    if not assignment_id.strip():\n",
    "        return \"**Error:** Missing assignment ID. Please enter a valid assignment ID.\"\n",
    "\n",
    "    cache = load_cache()\n",
    "    cache_key = f\"{assignment_id}_requirements\"\n",
    "\n",
    "    # Return cached requirements if available\n",
    "    if cache_key in cache and cache[cache_key]:\n",
    "        return cache[cache_key]\n",
    "\n",
    "    # Ensure the requirements text is not empty\n",
    "    if not requirements_text.strip():\n",
    "        return \"--No assignment requirements provided.\"\n",
    "\n",
    "    # Store it in the cache\n",
    "    cache[cache_key] = requirements_text\n",
    "    save_cache(cache)\n",
    "\n",
    "    return requirements_text  # Returns the requirements"
   ]
  },
  {
   "cell_type": "code",
   "execution_count": null,
   "id": "c095f535",
   "metadata": {},
   "outputs": [],
   "source": [
    "\"\"\"# Generate Inline Feedback\"\"\""
   ]
  },
  {
   "cell_type": "code",
   "execution_count": null,
   "id": "3417da1a",
   "metadata": {},
   "outputs": [],
   "source": [
    "# Generate inline feedback\n",
    "def generate_inline_feedback(input: InputFields):\n",
    "    \"\"\"\n",
    "    Processes the full essay, compares it to assignment requirements, and provides inline feedback.\n",
    "    Uses summarized assignment requirements to reduce token usage.\n",
    "    Returns 3-5 inline feedback suggestions structured JSON feedback targeting specific areas for improvement.\n",
    "    \"\"\"\n",
    "\n",
    "    # Check if assignment_id is empty to check cache\n",
    "    if not input.get_assignment_id().strip():\n",
    "        return \"**Error:** Missing assignment ID. Please enter a valid assignment ID.\"\n",
    "\n",
    "    # Check if submission is empty\n",
    "    if not input.get_student_essay().strip():\n",
    "        return \"**Error:** No submission provided. Please enter a student submission.\"\n",
    "\n",
    "    # Retrieve or make requirements summary\n",
    "    requirements_submitted = get_or_store_requirements(\n",
    "        input.get_assignment_id(), input.get_requirements_input()\n",
    "    )\n",
    "\n",
    "    prompt = f\"\"\"\n",
    "    Instructions:\n",
    "    You are an expert writing tutor providing constructive inline feedback on a student's essay.\n",
    "    - Analyze the student's assignment while considering the provided **requirements**.\n",
    "    - Provide **3 inline feedback points** in JSON format, ensuring feedback aligns with grading expectations.\n",
    "    - EVEN IF YOU ONLY HAVE ONE, MAKE 3\n",
    "    - STRICTLY RETURN ONLY JSON OUTPUT\n",
    "\n",
    "    ### Requirements Summary:\n",
    "    {requirements_submitted}\n",
    "\n",
    "    ### Student Assignment:\n",
    "    {input.get_student_essay()}\n",
    "\n",
    "\n",
    "    **Format for Response (JSON Only):**\n",
    "    ```json\n",
    "    [\n",
    "        {{\"excerpt\": \"Some part of the student's text\",\n",
    "        \"feedback\": \"Your feedback here\",\n",
    "        \"category\": \"Grammar/Clarity/Argument/Structure/Requirements\"}}\n",
    "    ]\n",
    "    ```\n",
    "\n",
    "    **Generated Feedback (JSON Format):**\n",
    "  \"\"\"\n",
    "\n",
    "    response = openai.chat.completions.create(\n",
    "        model=OPEN_AI_MODEL,\n",
    "        messages=[\n",
    "            {\"role\": \"user\", \"content\": prompt}\n",
    "        ],  # Send entire history as messages\n",
    "        temperature=TEMPERATURE,  # Increased randomness has given better results for feedback\n",
    "        max_tokens=1000,\n",
    "    )\n",
    "\n",
    "    response_text = response.choices[0].message.content.strip()\n",
    "\n",
    "    # Handle empty response\n",
    "    if not response_text:\n",
    "        return \"No inline feedback generated. Try again.\"\n",
    "\n",
    "    # Extract JSON if response contains extra text\n",
    "    match = re.search(r\"\\[\\s*{.*?}\\s*\\]\", response_text, re.DOTALL)\n",
    "    if match:\n",
    "        response_text = match.group(0)\n",
    "\n",
    "    # Attempt to parse response as JSON\n",
    "    try:\n",
    "        feedback_list = json.loads(response_text)\n",
    "        formatted_feedback = [\n",
    "            OutputFields()\n",
    "            .add_student_id(input.get_student_id())\n",
    "            .add_assignment_id(input.get_assignment_id())\n",
    "            .add_text_snippet(item[\"excerpt\"])\n",
    "            .add_feedback(item[\"feedback\"])\n",
    "            .add_feedback_type(item[\"category\"])\n",
    "            for item in feedback_list\n",
    "        ]\n",
    "    except (json.JSONDecodeError, TypeError, KeyError) as e:\n",
    "        print(f\"Error parsing json: ${e}\")\n",
    "        formatted_feedback = \"--Error parsing JSON.\"\n",
    "\n",
    "    return formatted_feedback"
   ]
  },
  {
   "cell_type": "code",
   "execution_count": null,
   "id": "159dfc60",
   "metadata": {},
   "outputs": [],
   "source": [
    "\"\"\"# Generate Summary Feedback\"\"\""
   ]
  },
  {
   "cell_type": "code",
   "execution_count": null,
   "id": "e3deb2cf",
   "metadata": {},
   "outputs": [],
   "source": [
    "def generate_summary_feedback(input: InputFields):\n",
    "    \"\"\"\n",
    "    Generates high-level summary feedback on the entire essay, considering assignment requirements.\n",
    "    Returns structured feedback on strengths, weaknesses, next steps, and rubric alignment.\n",
    "    \"\"\"\n",
    "    # Check if assignment_id is empty to check cache\n",
    "    if not input.get_assignment_id().strip():\n",
    "        return \"**Error:** Missing assignment ID. Please enter a valid assignment ID.\"\n",
    "\n",
    "    # Check if submission is empty\n",
    "    if not input.get_student_essay().strip():\n",
    "        return \"**Error:** No submission provided. Please enter a student submission.\"\n",
    "\n",
    "    # Retrieve or make requirements summary\n",
    "    requirements_submitted = get_or_store_requirements(\n",
    "        input.get_assignment_id(), input.get_requirements_input()\n",
    "    )\n",
    "\n",
    "    prompt = f\"\"\"\n",
    "  Instructions:\n",
    "  You are an expert writing turor proing constructive inline feedback on a student essay.\n",
    "  - Analyze the student's assignment while considering the provided **requirements**.\n",
    "  - Provide an **overall summary of the feedback** with the following structure:\n",
    "    - A brief paragraph on strengths.\n",
    "    - A brief paragraph on weaknesses.\n",
    "    - Two to three actionable next steps for improvements.\n",
    "    - A rubric alignment score from 1 to 10.\n",
    "\n",
    "  Format the response as:\n",
    "  **Strengths:** ...\n",
    "  **Weaknesses:** ...\n",
    "  **Next Steps:** ...\n",
    "  **Rubric Alignment:** X/10\n",
    "\n",
    "  ### Assignment Requirements:\n",
    "  {requirements_submitted}\n",
    "\n",
    "  ### Student's Essay:\n",
    "  {input.get_student_essay()}\n",
    "\n",
    "  **Generated Summary Feedback:**\n",
    "  \"\"\"\n",
    "    response = openai.chat.completions.create(\n",
    "        model=OPEN_AI_MODEL,\n",
    "        messages=[{\"role\": \"user\", \"content\": prompt}],\n",
    "        temperature=TEMPERATURE,  # Balance randomness for useful feedback?\n",
    "        max_tokens=500,\n",
    "    )\n",
    "\n",
    "    summary_feedback = response.choices[0].message.content.strip()\n",
    "\n",
    "    return (\n",
    "        OutputFields()\n",
    "        .add_student_id(input.get_student_id())\n",
    "        .add_assignment_id(input.get_assignment_id())\n",
    "        .add_text_snippet(input.get_student_essay())\n",
    "        .add_feedback(summary_feedback)\n",
    "        .add_feedback_type(\"Summary\")\n",
    "    )"
   ]
  }
 ],
 "metadata": {
  "jupytext": {
   "cell_metadata_filter": "-all",
   "main_language": "python",
   "notebook_metadata_filter": "-all"
  }
 },
 "nbformat": 4,
 "nbformat_minor": 5
}
