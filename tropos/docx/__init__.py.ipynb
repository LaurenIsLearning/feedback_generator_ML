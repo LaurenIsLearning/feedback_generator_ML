{
 "cells": [
  {
   "cell_type": "code",
   "execution_count": null,
   "id": "d6ea406d",
   "metadata": {},
   "outputs": [],
   "source": [
    "from spire.doc import *\n",
    "from spire.doc.common import *"
   ]
  },
  {
   "cell_type": "code",
   "execution_count": null,
   "id": "9dce7ac2",
   "metadata": {},
   "outputs": [],
   "source": [
    "from .comments import parse_comments, Comments\n",
    "from .submission import parse_submission, Submission\n",
    "from .requirements import parse_requirements, Requirements\n",
    "from .rubric import parse_rubric, Rubric"
   ]
  },
  {
   "cell_type": "code",
   "execution_count": null,
   "id": "dc1671ac",
   "metadata": {},
   "outputs": [],
   "source": [
    "class StudentSubmission:\n",
    "\n",
    "    rubric: Rubric\n",
    "    \"\"\"\n",
    "    The rubric table at the bottom of the submission document \n",
    "    \"\"\"\n",
    "\n",
    "    comments: Comments\n",
    "    \"\"\"\n",
    "    The inline comments \n",
    "    \"\"\"\n",
    "\n",
    "    requirements: Requirements\n",
    "    \"\"\"\n",
    "    The requirements file \n",
    "    \"\"\"\n",
    "\n",
    "    submission: Submission\n",
    "    \"\"\"\n",
    "    The students written work\n",
    "    \"\"\"\n",
    "\n",
    "    def __init__(self, submission: Document, requirements: Requirements) -> None:\n",
    "        self.rubric = parse_rubric(submission)\n",
    "        self.submission = parse_submission(submission)\n",
    "        self.comments = parse_comments(submission)\n",
    "        self.requirements = requirements\n",
    "\n",
    "    # TODO: Make getters and setters\n",
    "    #"
   ]
  }
 ],
 "metadata": {
  "jupytext": {
   "cell_metadata_filter": "-all",
   "main_language": "python",
   "notebook_metadata_filter": "-all"
  }
 },
 "nbformat": 4,
 "nbformat_minor": 5
}
