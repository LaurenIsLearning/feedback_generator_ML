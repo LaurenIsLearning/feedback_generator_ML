{
 "cells": [
  {
   "cell_type": "code",
   "execution_count": null,
   "id": "1dfda999",
   "metadata": {},
   "outputs": [],
   "source": [
    "from spire.doc import *\n",
    "from spire.doc.common import *"
   ]
  },
  {
   "cell_type": "code",
   "execution_count": null,
   "id": "10ebfbe5",
   "metadata": {},
   "outputs": [],
   "source": [
    "class Comments:\n",
    "\n",
    "    # Put the fields for this class here\n",
    "\n",
    "    def __init__(self) -> None:\n",
    "        pass\n",
    "\n",
    "    # Define getters and setters, make the setters return self"
   ]
  },
  {
   "cell_type": "code",
   "execution_count": null,
   "id": "1fe00488",
   "metadata": {},
   "outputs": [],
   "source": [
    "def parse_comments(submission: Document) -> Comments:\n",
    "    pass"
   ]
  }
 ],
 "metadata": {
  "jupytext": {
   "cell_metadata_filter": "-all",
   "main_language": "python",
   "notebook_metadata_filter": "-all"
  }
 },
 "nbformat": 4,
 "nbformat_minor": 5
}
