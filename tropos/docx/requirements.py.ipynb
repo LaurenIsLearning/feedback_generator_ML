{
 "cells": [
  {
   "cell_type": "code",
   "execution_count": null,
   "id": "ae2b32ff",
   "metadata": {},
   "outputs": [],
   "source": [
    "from spire.doc import *\n",
    "from spire.doc.common import *"
   ]
  },
  {
   "cell_type": "code",
   "execution_count": null,
   "id": "6c138a4c",
   "metadata": {},
   "outputs": [],
   "source": [
    "class Requirements:\n",
    "\n",
    "    # Put the fields for this class here\n",
    "\n",
    "    def __init__(self) -> None:\n",
    "        pass\n",
    "\n",
    "    # Define getters and setters, make the setters return self"
   ]
  },
  {
   "cell_type": "code",
   "execution_count": null,
   "id": "9138a69a",
   "metadata": {},
   "outputs": [],
   "source": [
    "def parse_requirements(requirements: Document) -> Requirements:\n",
    "    pass"
   ]
  }
 ],
 "metadata": {
  "jupytext": {
   "cell_metadata_filter": "-all",
   "main_language": "python",
   "notebook_metadata_filter": "-all"
  }
 },
 "nbformat": 4,
 "nbformat_minor": 5
}
