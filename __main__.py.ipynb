{
 "cells": [
  {
   "cell_type": "code",
   "execution_count": null,
   "id": "2d66b492",
   "metadata": {},
   "outputs": [],
   "source": [
    "from spire.doc import *\n",
    "from spire.doc.common import *"
   ]
  },
  {
   "cell_type": "code",
   "execution_count": null,
   "id": "4fa6c437",
   "metadata": {
    "lines_to_next_cell": 2
   },
   "outputs": [],
   "source": [
    "# NOTE: The dot notates its within the current directory\n",
    "from tropos.ui import make_ui\n",
    "from tropos.docx import StudentSubmission"
   ]
  },
  {
   "cell_type": "code",
   "execution_count": null,
   "id": "0dac6a1e",
   "metadata": {},
   "outputs": [],
   "source": [
    "# Starts the program\n",
    "if __name__ == \"__main__\":\n",
    "    # Tests the ui\n",
    "    # make_ui()\n",
    "\n",
    "    # Tests the docx data extraction\n",
    "\n",
    "    requirements_doc = Document()\n",
    "    requirements_doc.LoadFromFile(\"./data/sample1/AssignmentRequirements.docx\")\n",
    "\n",
    "    submission_doc = Document()\n",
    "    requirements_doc.LoadFromFile(\"./data/sample1/StudentSubmission.docx\")\n",
    "\n",
    "    print(\"Testing StudentSubmission class\")\n",
    "    StudentSubmission(submission_doc, requirements_doc)"
   ]
  }
 ],
 "metadata": {
  "jupytext": {
   "cell_metadata_filter": "-all",
   "main_language": "python",
   "notebook_metadata_filter": "-all"
  }
 },
 "nbformat": 4,
 "nbformat_minor": 5
}
