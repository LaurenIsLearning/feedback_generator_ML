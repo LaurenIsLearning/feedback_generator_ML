{
  "cells": [
    {
      "cell_type": "markdown",
      "metadata": {
        "id": "ulDLZT4fNver"
      },
      "source": [
        "# Main Feedback Generation Notebook\n",
        "This notebook handles preprocessing, model interaction, and feedback generation."
      ]
    },
    {
      "cell_type": "markdown",
      "metadata": {
        "id": "FHsp7J0HplsS"
      },
      "source": [
        "**--Set up: Github, Paths, Imports, Installs**"
      ]
    },
    {
      "cell_type": "code",
      "execution_count": null,
      "metadata": {
        "collapsed": true,
        "id": "eCtHty9DikFr"
      },
      "outputs": [],
      "source": [
        "# Mount Google Drive (optional, you'll get a prompt to authorize account)\n",
        "# from google.colab import drive\n",
        "# drive.mount('/content/drive')\n",
        "\n",
        "# Start in root Colab directory to avoid nesting\n",
        "%cd /content\n",
        "\n",
        "# Clone your GitHub repo (replace with your actual repo URL)\n",
        "!git clone https://github.com/ML-name/project.git\n",
        "%cd project\n",
        "\n",
        "# List all branches (optional, for checking)\n",
        "# !git branch -a\n",
        "\n",
        "# Checkout YOUR branch (!!replace \"your-branch-name\"!!)\n",
        "!git checkout -b feature/rubric_printout origin/feature/rubric_printout\n",
        "\n",
        "%pip install -r requirements.txt --quiet\n",
        "%pip install --upgrade openai --quiet"
      ]
    },
    {
      "cell_type": "markdown",
      "metadata": {
        "id": "H_3ukDxmpsiK"
      },
      "source": [
        "**--Default imports**"
      ]
    },
    {
      "cell_type": "code",
      "execution_count": null,
      "metadata": {
        "id": "default-imports-cell"
      },
      "outputs": [],
      "source": [
        "# Add src folder to python path to edit python files\n",
        "import sys\n",
        "sys.path.append('/content/project/')\n",
        "\n",
        "from google.colab import userdata\n",
        "import os\n",
        "openai_key = userdata.get(\"OPENAI_API_KEY\")\n",
        "os.environ[\"OPENAI_API_KEY\"] = openai_key"
      ]
    },
    {
      "cell_type": "markdown",
      "metadata": {
        "id": "n6U7apAmpXla"
      },
      "source": [
        "**--Import modules (you’re working on)**\n",
        "<br>*each of our classes will be what will merge to this notebook (I'm pretty sure)*\n",
        "<br>only loads what you explicitly request\n",
        "<br>(this helps keep memory low and import fast)\n",
        "<br> *the following is an example with my Rubric module*"
      ]
    },
    {
      "cell_type": "markdown",
      "metadata": {
        "id": "p3OwBF8qT7uV"
      },
      "source": [
        "**--Lauren's bit that can run the feedback generator here to test**\n",
        "- ended up modularizing code to prepare for gradio/UI use.\n",
        "  - had all files include ability to use uploaded files, used local testing files as default to be able to test\n",
        "  - created feedback_engine file to be able to create runnable program in notebook to test\n",
        "  - TODO: create runnable feedback program for Gradio/UI when that time comes"
      ]
    },
    {
      "cell_type": "code",
      "source": [
        " from utils.debug_helpers import explore_examples\n",
        " # to see what is all being assigned to prompt when cycled.\n",
        "\n",
        " explore_examples(\n",
        "     requirements_path=\"/content/project/data/raw/Requirements.docx\",\n",
        "     example_dir=\"/content/project/data/raw/Student_Submissions\"\n",
        " )"
      ],
      "metadata": {
        "id": "2c7cKUXyRARs"
      },
      "execution_count": null,
      "outputs": []
    },
    {
      "cell_type": "code",
      "source": [
        "from tropos import run_feedback_batch\n",
        "\n",
        "#change parameters here for prompt/model/max_examples\n",
        "run_feedback_batch(\n",
        "    prompt_type=\"FewShot\",\n",
        "    model=\"gpt-4o\", #change models here\n",
        "    requirements_path=\"./data/raw/Requirements.docx\",\n",
        "    example_dir=\"./data/raw/Student_Submissions\",\n",
        "    target_dir=\"./data/unmarked_raw\",\n",
        "    output_dir=\"./data/generated_output\",\n",
        "    verbose=True, #move to 'False' if you dont want all the output to be visble\n",
        "    max_examples=4 #change this for RateLimitErrors ('None' to allow for all)\n",
        ")"
      ],
      "metadata": {
        "id": "Y8xhLiTvttbK"
      },
      "execution_count": null,
      "outputs": []
    }
  ],
  "metadata": {
    "colab": {
      "provenance": []
    },
    "kernelspec": {
      "display_name": "Python 3",
      "name": "python3"
    },
    "language_info": {
      "name": "python"
    }
  },
  "nbformat": 4,
  "nbformat_minor": 0
}