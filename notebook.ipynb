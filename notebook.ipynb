{
  "nbformat": 4,
  "nbformat_minor": 0,
  "metadata": {
    "colab": {
      "provenance": []
    },
    "kernelspec": {
      "name": "python3",
      "display_name": "Python 3"
    },
    "language_info": {
      "name": "python"
    }
  },
  "cells": [
    {
      "cell_type": "markdown",
      "source": [
        "# Main Feedback Generation Notebook\n",
        "This notebook handles preprocessing, model interaction, and feedback generation."
      ],
      "metadata": {
        "id": "ulDLZT4fNver"
      }
    },
    {
      "cell_type": "markdown",
      "source": [
        "**--Set up: Github, Paths, Imports**"
      ],
      "metadata": {
        "id": "FHsp7J0HplsS"
      }
    },
    {
      "cell_type": "code",
      "execution_count": 2,
      "metadata": {
        "id": "eCtHty9DikFr",
        "collapsed": true,
        "colab": {
          "base_uri": "https://localhost:8080/"
        },
        "outputId": "2971dbbf-4fe4-4482-c8a0-0d9b3b16b49e"
      },
      "outputs": [
        {
          "output_type": "stream",
          "name": "stdout",
          "text": [
            "/content\n",
            "Cloning into 'project'...\n",
            "remote: Enumerating objects: 859, done.\u001b[K\n",
            "remote: Counting objects: 100% (247/247), done.\u001b[K\n",
            "remote: Compressing objects: 100% (179/179), done.\u001b[K\n",
            "remote: Total 859 (delta 121), reused 121 (delta 65), pack-reused 612 (from 2)\u001b[K\n",
            "Receiving objects: 100% (859/859), 1.49 MiB | 14.58 MiB/s, done.\n",
            "Resolving deltas: 100% (430/430), done.\n",
            "/content/project\n"
          ]
        }
      ],
      "source": [
        "# Mount Google Drive (optional, you'll get a prompt to authorize account)\n",
        "# from google.colab import drive\n",
        "# drive.mount('/content/drive')\n",
        "\n",
        "# Start in root Colab directory to avoid nesting\n",
        "%cd /content\n",
        "\n",
        "# Clone your GitHub repo (replace with your actual repo URL)\n",
        "!git clone https://github.com/ML-name/project.git\n",
        "%cd project\n",
        "\n",
        "# List all branches (optional, for checking)\n",
        "# !git branch -a"
      ]
    },
    {
      "cell_type": "code",
      "source": [
        "# Checkout YOUR branch (!!replace \"your-branch-name\"!!)\n",
        "!git checkout -b model/prompting origin/model/prompting"
      ],
      "metadata": {
        "id": "8Wkd42jki1Sj",
        "colab": {
          "base_uri": "https://localhost:8080/"
        },
        "outputId": "1284e4d0-90de-4a5c-aac9-4295197b9093"
      },
      "execution_count": 3,
      "outputs": [
        {
          "output_type": "stream",
          "name": "stdout",
          "text": [
            "Branch 'model/prompting' set up to track remote branch 'model/prompting' from 'origin'.\n",
            "Switched to a new branch 'model/prompting'\n"
          ]
        }
      ]
    },
    {
      "cell_type": "markdown",
      "source": [
        "**--Install required libraries**"
      ],
      "metadata": {
        "id": "H_3ukDxmpsiK"
      }
    },
    {
      "cell_type": "code",
      "source": [
        "%pip install -r requirements.txt --quiet"
      ],
      "metadata": {
        "id": "-jkz-KdWpQnk",
        "colab": {
          "base_uri": "https://localhost:8080/"
        },
        "outputId": "d36fade5-a9a6-452a-83a9-eafcf14858d7"
      },
      "execution_count": 4,
      "outputs": [
        {
          "output_type": "stream",
          "name": "stdout",
          "text": [
            "\u001b[2K   \u001b[90m━━━━━━━━━━━━━━━━━━━━━━━━━━━━━━━━━━━━━━━━\u001b[0m \u001b[32m46.9/46.9 MB\u001b[0m \u001b[31m20.2 MB/s\u001b[0m eta \u001b[36m0:00:00\u001b[0m\n",
            "\u001b[2K   \u001b[90m━━━━━━━━━━━━━━━━━━━━━━━━━━━━━━━━━━━━━━━━\u001b[0m \u001b[32m322.2/322.2 kB\u001b[0m \u001b[31m22.2 MB/s\u001b[0m eta \u001b[36m0:00:00\u001b[0m\n",
            "\u001b[2K   \u001b[90m━━━━━━━━━━━━━━━━━━━━━━━━━━━━━━━━━━━━━━━━\u001b[0m \u001b[32m61.3/61.3 kB\u001b[0m \u001b[31m5.1 MB/s\u001b[0m eta \u001b[36m0:00:00\u001b[0m\n",
            "\u001b[2K   \u001b[90m━━━━━━━━━━━━━━━━━━━━━━━━━━━━━━━━━━━━━━━━\u001b[0m \u001b[32m244.3/244.3 kB\u001b[0m \u001b[31m19.4 MB/s\u001b[0m eta \u001b[36m0:00:00\u001b[0m\n",
            "\u001b[2K   \u001b[90m━━━━━━━━━━━━━━━━━━━━━━━━━━━━━━━━━━━━━━━━\u001b[0m \u001b[32m95.2/95.2 kB\u001b[0m \u001b[31m7.9 MB/s\u001b[0m eta \u001b[36m0:00:00\u001b[0m\n",
            "\u001b[2K   \u001b[90m━━━━━━━━━━━━━━━━━━━━━━━━━━━━━━━━━━━━━━━━\u001b[0m \u001b[32m11.4/11.4 MB\u001b[0m \u001b[31m103.9 MB/s\u001b[0m eta \u001b[36m0:00:00\u001b[0m\n",
            "\u001b[2K   \u001b[90m━━━━━━━━━━━━━━━━━━━━━━━━━━━━━━━━━━━━━━━━\u001b[0m \u001b[32m72.0/72.0 kB\u001b[0m \u001b[31m5.4 MB/s\u001b[0m eta \u001b[36m0:00:00\u001b[0m\n",
            "\u001b[2K   \u001b[90m━━━━━━━━━━━━━━━━━━━━━━━━━━━━━━━━━━━━━━━━\u001b[0m \u001b[32m1.2/1.2 MB\u001b[0m \u001b[31m55.6 MB/s\u001b[0m eta \u001b[36m0:00:00\u001b[0m\n",
            "\u001b[2K   \u001b[90m━━━━━━━━━━━━━━━━━━━━━━━━━━━━━━━━━━━━━━━━\u001b[0m \u001b[32m62.4/62.4 kB\u001b[0m \u001b[31m4.9 MB/s\u001b[0m eta \u001b[36m0:00:00\u001b[0m\n",
            "\u001b[?25h"
          ]
        }
      ]
    },
    {
      "cell_type": "code",
      "source": [
        "# Add src folder to python path to edit python files\n",
        "import sys\n",
        "sys.path.append('/content/project/')\n",
        "\n",
        "from google.colab import userdata\n",
        "import os\n",
        "openai_key = userdata.get(\"OPENAI_API_KEY\")\n",
        "os.environ[\"OPENAI_API_KEY\"] = openai_key"
      ],
      "metadata": {
        "id": "znN3vJE_i3Rm"
      },
      "execution_count": 13,
      "outputs": []
    },
    {
      "cell_type": "markdown",
      "source": [
        "**--Import modules (youre working on)**\n",
        "<br>*each of our classes will be what will merge to this notebook (im p sure)*\n",
        "<br>only loads what you explicitly request\n",
        "<br>(this helps keep memory low and import fast)\n",
        "<br> *the following is an example with my Rubric module*"
      ],
      "metadata": {
        "id": "n6U7apAmpXla"
      }
    },
    {
      "cell_type": "code",
      "source": [
        "!pip install --upgrade openai --quiet"
      ],
      "metadata": {
        "id": "Z0wHGvei4COH",
        "colab": {
          "base_uri": "https://localhost:8080/"
        },
        "outputId": "001ca019-a614-40bc-8780-29e1e27181fe"
      },
      "execution_count": 6,
      "outputs": [
        {
          "output_type": "stream",
          "name": "stdout",
          "text": [
            "\u001b[?25l   \u001b[90m━━━━━━━━━━━━━━━━━━━━━━━━━━━━━━━━━━━━━━━━\u001b[0m \u001b[32m0.0/644.8 kB\u001b[0m \u001b[31m?\u001b[0m eta \u001b[36m-:--:--\u001b[0m\r\u001b[2K   \u001b[91m━━━━━━━━━━━━━━━━━━━━━━━━━━━━━\u001b[0m\u001b[90m╺\u001b[0m\u001b[90m━━━━━━━━━━\u001b[0m \u001b[32m471.0/644.8 kB\u001b[0m \u001b[31m16.2 MB/s\u001b[0m eta \u001b[36m0:00:01\u001b[0m\r\u001b[2K   \u001b[90m━━━━━━━━━━━━━━━━━━━━━━━━━━━━━━━━━━━━━━━━\u001b[0m \u001b[32m644.8/644.8 kB\u001b[0m \u001b[31m13.0 MB/s\u001b[0m eta \u001b[36m0:00:00\u001b[0m\n",
            "\u001b[?25h"
          ]
        }
      ]
    },
    {
      "cell_type": "code",
      "source": [
        "from tropos import StudentSubmission\n",
        "from tropos.models import gpt\n",
        "\n",
        "example = StudentSubmission(\n",
        "    \"/content/project/data/raw/Student_1/Student_1_Part_1.docx\",\n",
        "    \"/content/project/data/raw/Requirements.docx\")\n",
        "target = StudentSubmission(\n",
        "    \"/content/project/data/unmarked_raw/Uncommented_Student_1.docx\",\n",
        "    \"/content/project/data/raw/Requirements.docx\")\n",
        "\n",
        "feedback = gpt.generate_feedback(example, target)\n",
        "print(feedback)"
      ],
      "metadata": {
        "id": "RRdoHlvYlOpo",
        "colab": {
          "base_uri": "https://localhost:8080/"
        },
        "outputId": "606e7ce3-1453-4cf8-bd3b-4ff1420c7161"
      },
      "execution_count": 7,
      "outputs": [
        {
          "output_type": "stream",
          "name": "stdout",
          "text": [
            "No tables in document.\n",
            "Document contains no comments\n",
            "🧑‍🏫 Instructor Feedback:\n",
            "\n",
            "Inline Feedback:\n",
            "\n",
            "- \"Unfortunately, the year 2019 is known as the year of quarantine. Additionally, the year 2020 is known for the start of mask mandates.\" - A solid introduction that sets up the focus of the essay. It effectively engages the reader and indicates the major parts and content of your discussion.\n",
            "- \"The mask mandate refers to the authoritative governmental policy of wearing a mask in certain settings when out in public.\" - Great job at defining the term of focus. This helps in establishing a common understanding for the reader.\n",
            "- \"The noncompliant side questions the true effectiveness of the mask mandate.\" - A smooth transition from background to analysis. You accurately summarized the opposing views on mask mandates.\n",
            "- \"Mask mandating has undoubtedly created a divide in society.\" - You've successfully recognized and shown the bias that exists in society regarding mask mandates. \n",
            "- \"Mask mandates were enforced for the purpose of protecting people.\" - Excellent transition from analysis to response, drawing a reasonable conclusion from the information provided.\n",
            "\n",
            "Summary Feedback:\n",
            "\n",
            "Strengths: This paper exhibits a commendable understanding of the topic and presents a balanced and objective view on mask mandates. The essay is well-structured, with clear transitions between different sections. You have used credible sources to support your arguments and have shown the ability to critically analyze different perspectives.\n",
            "\n",
            "Areas to Improve:\n",
            "\n",
            "1. Detail and Clarity: In some parts of the essay, you could go into a bit more detail. For example, when discussing the effectiveness of mask mandates, you could provide more data or specific examples to strengthen your statements.\n",
            "\n",
            "2. Source usage: While you've used multiple sources, make sure to integrate them smoothly within your argument. At times, the sources feel a bit disjointed from the rest of the text. Try to weave the source information more naturally into your own words.\n",
            "\n",
            "3. Conclusion: While the conclusion does tie together your argument, it could be more impactful. Try to end with a clear, concise statement that encapsulates your main argument or findings. \n",
            "\n",
            "Overall, this is a well-written paper that demonstrates a good understanding of the topic and the ability to analyze different perspectives. With a bit more work on integrating sources and detailing your argument, it will be even better. Keep up the good work!\n"
          ]
        }
      ]
    },
    {
      "cell_type": "code",
      "source": [
        "from tropos.docx_writer import write_feedback_to_docx\n",
        "\n",
        "#write to docx with feedback\n",
        "write_feedback_to_docx(\n",
        "    submission_path=\"/content/project/data/unmarked_raw/Uncommented_Student_1.docx\",\n",
        "    feedback_text=feedback,\n",
        "    output_path=\"/content/project/data/output/Commented_Student_1.docx\"\n",
        ")\n",
        "\n",
        "#from utils.feedback_formatting import format_feedback_blocks\n",
        "#format_feedback_blocks(feedback)"
      ],
      "metadata": {
        "colab": {
          "base_uri": "https://localhost:8080/",
          "height": 391
        },
        "id": "_D_vwndJNzgq",
        "outputId": "860be35c-49c2-464a-a8ce-0bd32a7dee39"
      },
      "execution_count": 12,
      "outputs": [
        {
          "output_type": "error",
          "ename": "FileNotFoundError",
          "evalue": "[Errno 2] No such file or directory: '/content/project/data/output/Commented_Student_1.docx'",
          "traceback": [
            "\u001b[0;31m---------------------------------------------------------------------------\u001b[0m",
            "\u001b[0;31mFileNotFoundError\u001b[0m                         Traceback (most recent call last)",
            "\u001b[0;32m<ipython-input-12-c6dee2464588>\u001b[0m in \u001b[0;36m<cell line: 0>\u001b[0;34m()\u001b[0m\n\u001b[1;32m      2\u001b[0m \u001b[0;34m\u001b[0m\u001b[0m\n\u001b[1;32m      3\u001b[0m \u001b[0;31m#write to docx with feedback\u001b[0m\u001b[0;34m\u001b[0m\u001b[0;34m\u001b[0m\u001b[0m\n\u001b[0;32m----> 4\u001b[0;31m write_feedback_to_docx(\n\u001b[0m\u001b[1;32m      5\u001b[0m     \u001b[0msubmission_path\u001b[0m\u001b[0;34m=\u001b[0m\u001b[0;34m\"/content/project/data/unmarked_raw/Uncommented_Student_1.docx\"\u001b[0m\u001b[0;34m,\u001b[0m\u001b[0;34m\u001b[0m\u001b[0;34m\u001b[0m\u001b[0m\n\u001b[1;32m      6\u001b[0m     \u001b[0mfeedback_text\u001b[0m\u001b[0;34m=\u001b[0m\u001b[0mfeedback\u001b[0m\u001b[0;34m,\u001b[0m\u001b[0;34m\u001b[0m\u001b[0;34m\u001b[0m\u001b[0m\n",
            "\u001b[0;32m/content/project/tropos/docx_writer.py\u001b[0m in \u001b[0;36mwrite_feedback_to_docx\u001b[0;34m(submission_path, feedback_text, output_path)\u001b[0m\n\u001b[1;32m     56\u001b[0m             \u001b[0moutput_doc\u001b[0m\u001b[0;34m.\u001b[0m\u001b[0madd_paragraph\u001b[0m\u001b[0;34m(\u001b[0m\u001b[0mline\u001b[0m\u001b[0;34m.\u001b[0m\u001b[0mstrip\u001b[0m\u001b[0;34m(\u001b[0m\u001b[0;34m)\u001b[0m\u001b[0;34m)\u001b[0m\u001b[0;34m\u001b[0m\u001b[0;34m\u001b[0m\u001b[0m\n\u001b[1;32m     57\u001b[0m \u001b[0;34m\u001b[0m\u001b[0m\n\u001b[0;32m---> 58\u001b[0;31m     \u001b[0moutput_doc\u001b[0m\u001b[0;34m.\u001b[0m\u001b[0msave\u001b[0m\u001b[0;34m(\u001b[0m\u001b[0moutput_path\u001b[0m\u001b[0;34m)\u001b[0m\u001b[0;34m\u001b[0m\u001b[0;34m\u001b[0m\u001b[0m\n\u001b[0m",
            "\u001b[0;32m/usr/local/lib/python3.11/dist-packages/docx/document.py\u001b[0m in \u001b[0;36msave\u001b[0;34m(self, path_or_stream)\u001b[0m\n\u001b[1;32m    147\u001b[0m         \u001b[0mfile\u001b[0m\u001b[0;34m-\u001b[0m\u001b[0mlike\u001b[0m \u001b[0mobject\u001b[0m\u001b[0;34m.\u001b[0m\u001b[0;34m\u001b[0m\u001b[0;34m\u001b[0m\u001b[0m\n\u001b[1;32m    148\u001b[0m         \"\"\"\n\u001b[0;32m--> 149\u001b[0;31m         \u001b[0mself\u001b[0m\u001b[0;34m.\u001b[0m\u001b[0m_part\u001b[0m\u001b[0;34m.\u001b[0m\u001b[0msave\u001b[0m\u001b[0;34m(\u001b[0m\u001b[0mpath_or_stream\u001b[0m\u001b[0;34m)\u001b[0m\u001b[0;34m\u001b[0m\u001b[0;34m\u001b[0m\u001b[0m\n\u001b[0m\u001b[1;32m    150\u001b[0m \u001b[0;34m\u001b[0m\u001b[0m\n\u001b[1;32m    151\u001b[0m     \u001b[0;34m@\u001b[0m\u001b[0mproperty\u001b[0m\u001b[0;34m\u001b[0m\u001b[0;34m\u001b[0m\u001b[0m\n",
            "\u001b[0;32m/usr/local/lib/python3.11/dist-packages/docx/parts/document.py\u001b[0m in \u001b[0;36msave\u001b[0;34m(self, path_or_stream)\u001b[0m\n\u001b[1;32m    106\u001b[0m         \"\"\"Save this document to `path_or_stream`, which can be either a path to a\n\u001b[1;32m    107\u001b[0m         filesystem location (a string) or a file-like object.\"\"\"\n\u001b[0;32m--> 108\u001b[0;31m         \u001b[0mself\u001b[0m\u001b[0;34m.\u001b[0m\u001b[0mpackage\u001b[0m\u001b[0;34m.\u001b[0m\u001b[0msave\u001b[0m\u001b[0;34m(\u001b[0m\u001b[0mpath_or_stream\u001b[0m\u001b[0;34m)\u001b[0m\u001b[0;34m\u001b[0m\u001b[0;34m\u001b[0m\u001b[0m\n\u001b[0m\u001b[1;32m    109\u001b[0m \u001b[0;34m\u001b[0m\u001b[0m\n\u001b[1;32m    110\u001b[0m     \u001b[0;34m@\u001b[0m\u001b[0mproperty\u001b[0m\u001b[0;34m\u001b[0m\u001b[0;34m\u001b[0m\u001b[0m\n",
            "\u001b[0;32m/usr/local/lib/python3.11/dist-packages/docx/opc/package.py\u001b[0m in \u001b[0;36msave\u001b[0;34m(self, pkg_file)\u001b[0m\n\u001b[1;32m    165\u001b[0m         \u001b[0;32mfor\u001b[0m \u001b[0mpart\u001b[0m \u001b[0;32min\u001b[0m \u001b[0mself\u001b[0m\u001b[0;34m.\u001b[0m\u001b[0mparts\u001b[0m\u001b[0;34m:\u001b[0m\u001b[0;34m\u001b[0m\u001b[0;34m\u001b[0m\u001b[0m\n\u001b[1;32m    166\u001b[0m             \u001b[0mpart\u001b[0m\u001b[0;34m.\u001b[0m\u001b[0mbefore_marshal\u001b[0m\u001b[0;34m(\u001b[0m\u001b[0;34m)\u001b[0m\u001b[0;34m\u001b[0m\u001b[0;34m\u001b[0m\u001b[0m\n\u001b[0;32m--> 167\u001b[0;31m         \u001b[0mPackageWriter\u001b[0m\u001b[0;34m.\u001b[0m\u001b[0mwrite\u001b[0m\u001b[0;34m(\u001b[0m\u001b[0mpkg_file\u001b[0m\u001b[0;34m,\u001b[0m \u001b[0mself\u001b[0m\u001b[0;34m.\u001b[0m\u001b[0mrels\u001b[0m\u001b[0;34m,\u001b[0m \u001b[0mself\u001b[0m\u001b[0;34m.\u001b[0m\u001b[0mparts\u001b[0m\u001b[0;34m)\u001b[0m\u001b[0;34m\u001b[0m\u001b[0;34m\u001b[0m\u001b[0m\n\u001b[0m\u001b[1;32m    168\u001b[0m \u001b[0;34m\u001b[0m\u001b[0m\n\u001b[1;32m    169\u001b[0m     \u001b[0;34m@\u001b[0m\u001b[0mproperty\u001b[0m\u001b[0;34m\u001b[0m\u001b[0;34m\u001b[0m\u001b[0m\n",
            "\u001b[0;32m/usr/local/lib/python3.11/dist-packages/docx/opc/pkgwriter.py\u001b[0m in \u001b[0;36mwrite\u001b[0;34m(pkg_file, pkg_rels, parts)\u001b[0m\n\u001b[1;32m     32\u001b[0m         \"\"\"Write a physical package (.pptx file) to `pkg_file` containing `pkg_rels` and\n\u001b[1;32m     33\u001b[0m         `parts` and a content types stream based on the content types of the parts.\"\"\"\n\u001b[0;32m---> 34\u001b[0;31m         \u001b[0mphys_writer\u001b[0m \u001b[0;34m=\u001b[0m \u001b[0mPhysPkgWriter\u001b[0m\u001b[0;34m(\u001b[0m\u001b[0mpkg_file\u001b[0m\u001b[0;34m)\u001b[0m\u001b[0;34m\u001b[0m\u001b[0;34m\u001b[0m\u001b[0m\n\u001b[0m\u001b[1;32m     35\u001b[0m         \u001b[0mPackageWriter\u001b[0m\u001b[0;34m.\u001b[0m\u001b[0m_write_content_types_stream\u001b[0m\u001b[0;34m(\u001b[0m\u001b[0mphys_writer\u001b[0m\u001b[0;34m,\u001b[0m \u001b[0mparts\u001b[0m\u001b[0;34m)\u001b[0m\u001b[0;34m\u001b[0m\u001b[0;34m\u001b[0m\u001b[0m\n\u001b[1;32m     36\u001b[0m         \u001b[0mPackageWriter\u001b[0m\u001b[0;34m.\u001b[0m\u001b[0m_write_pkg_rels\u001b[0m\u001b[0;34m(\u001b[0m\u001b[0mphys_writer\u001b[0m\u001b[0;34m,\u001b[0m \u001b[0mpkg_rels\u001b[0m\u001b[0;34m)\u001b[0m\u001b[0;34m\u001b[0m\u001b[0;34m\u001b[0m\u001b[0m\n",
            "\u001b[0;32m/usr/local/lib/python3.11/dist-packages/docx/opc/phys_pkg.py\u001b[0m in \u001b[0;36m__init__\u001b[0;34m(self, pkg_file)\u001b[0m\n\u001b[1;32m    107\u001b[0m     \u001b[0;32mdef\u001b[0m \u001b[0m__init__\u001b[0m\u001b[0;34m(\u001b[0m\u001b[0mself\u001b[0m\u001b[0;34m,\u001b[0m \u001b[0mpkg_file\u001b[0m\u001b[0;34m)\u001b[0m\u001b[0;34m:\u001b[0m\u001b[0;34m\u001b[0m\u001b[0;34m\u001b[0m\u001b[0m\n\u001b[1;32m    108\u001b[0m         \u001b[0msuper\u001b[0m\u001b[0;34m(\u001b[0m\u001b[0m_ZipPkgWriter\u001b[0m\u001b[0;34m,\u001b[0m \u001b[0mself\u001b[0m\u001b[0;34m)\u001b[0m\u001b[0;34m.\u001b[0m\u001b[0m__init__\u001b[0m\u001b[0;34m(\u001b[0m\u001b[0;34m)\u001b[0m\u001b[0;34m\u001b[0m\u001b[0;34m\u001b[0m\u001b[0m\n\u001b[0;32m--> 109\u001b[0;31m         \u001b[0mself\u001b[0m\u001b[0;34m.\u001b[0m\u001b[0m_zipf\u001b[0m \u001b[0;34m=\u001b[0m \u001b[0mZipFile\u001b[0m\u001b[0;34m(\u001b[0m\u001b[0mpkg_file\u001b[0m\u001b[0;34m,\u001b[0m \u001b[0;34m\"w\"\u001b[0m\u001b[0;34m,\u001b[0m \u001b[0mcompression\u001b[0m\u001b[0;34m=\u001b[0m\u001b[0mZIP_DEFLATED\u001b[0m\u001b[0;34m)\u001b[0m\u001b[0;34m\u001b[0m\u001b[0;34m\u001b[0m\u001b[0m\n\u001b[0m\u001b[1;32m    110\u001b[0m \u001b[0;34m\u001b[0m\u001b[0m\n\u001b[1;32m    111\u001b[0m     \u001b[0;32mdef\u001b[0m \u001b[0mclose\u001b[0m\u001b[0;34m(\u001b[0m\u001b[0mself\u001b[0m\u001b[0;34m)\u001b[0m\u001b[0;34m:\u001b[0m\u001b[0;34m\u001b[0m\u001b[0;34m\u001b[0m\u001b[0m\n",
            "\u001b[0;32m/usr/lib/python3.11/zipfile.py\u001b[0m in \u001b[0;36m__init__\u001b[0;34m(self, file, mode, compression, allowZip64, compresslevel, strict_timestamps, metadata_encoding)\u001b[0m\n\u001b[1;32m   1293\u001b[0m             \u001b[0;32mwhile\u001b[0m \u001b[0;32mTrue\u001b[0m\u001b[0;34m:\u001b[0m\u001b[0;34m\u001b[0m\u001b[0;34m\u001b[0m\u001b[0m\n\u001b[1;32m   1294\u001b[0m                 \u001b[0;32mtry\u001b[0m\u001b[0;34m:\u001b[0m\u001b[0;34m\u001b[0m\u001b[0;34m\u001b[0m\u001b[0m\n\u001b[0;32m-> 1295\u001b[0;31m                     \u001b[0mself\u001b[0m\u001b[0;34m.\u001b[0m\u001b[0mfp\u001b[0m \u001b[0;34m=\u001b[0m \u001b[0mio\u001b[0m\u001b[0;34m.\u001b[0m\u001b[0mopen\u001b[0m\u001b[0;34m(\u001b[0m\u001b[0mfile\u001b[0m\u001b[0;34m,\u001b[0m \u001b[0mfilemode\u001b[0m\u001b[0;34m)\u001b[0m\u001b[0;34m\u001b[0m\u001b[0;34m\u001b[0m\u001b[0m\n\u001b[0m\u001b[1;32m   1296\u001b[0m                 \u001b[0;32mexcept\u001b[0m \u001b[0mOSError\u001b[0m\u001b[0;34m:\u001b[0m\u001b[0;34m\u001b[0m\u001b[0;34m\u001b[0m\u001b[0m\n\u001b[1;32m   1297\u001b[0m                     \u001b[0;32mif\u001b[0m \u001b[0mfilemode\u001b[0m \u001b[0;32min\u001b[0m \u001b[0mmodeDict\u001b[0m\u001b[0;34m:\u001b[0m\u001b[0;34m\u001b[0m\u001b[0;34m\u001b[0m\u001b[0m\n",
            "\u001b[0;31mFileNotFoundError\u001b[0m: [Errno 2] No such file or directory: '/content/project/data/output/Commented_Student_1.docx'"
          ]
        }
      ]
    },
    {
      "cell_type": "code",
      "source": [],
      "metadata": {
        "id": "0o6quZzvSTN6"
      },
      "execution_count": null,
      "outputs": []
    }
  ]
}