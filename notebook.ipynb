{
  "nbformat": 4,
  "nbformat_minor": 0,
  "metadata": {
    "colab": {
      "provenance": []
    },
    "kernelspec": {
      "name": "python3",
      "display_name": "Python 3"
    },
    "language_info": {
      "name": "python"
    }
  },
  "cells": [
    {
      "cell_type": "markdown",
      "source": [
        "# Main Feedback Generation Notebook\n",
        "This notebook handles preprocessing, model interaction, and feedback generation."
      ],
      "metadata": {
        "id": "ulDLZT4fNver"
      }
    },
    {
      "cell_type": "markdown",
      "source": [
        "**--Set up: Github, Paths, Imports**"
      ],
      "metadata": {
        "id": "FHsp7J0HplsS"
      }
    },
    {
      "cell_type": "code",
      "execution_count": 1,
      "metadata": {
        "id": "eCtHty9DikFr",
        "collapsed": true,
        "colab": {
          "base_uri": "https://localhost:8080/"
        },
        "outputId": "231c5f18-9256-48ea-f8f7-74bb038b0c8f"
      },
      "outputs": [
        {
          "output_type": "stream",
          "name": "stdout",
          "text": [
            "/content\n",
            "fatal: destination path 'project' already exists and is not an empty directory.\n",
            "/content/project\n"
          ]
        }
      ],
      "source": [
        "# Mount Google Drive (optional, you'll get a prompt to authorize account)\n",
        "# from google.colab import drive\n",
        "# drive.mount('/content/drive')\n",
        "\n",
        "# Start in root Colab directory to avoid nesting\n",
        "%cd /content\n",
        "\n",
        "# Clone your GitHub repo (replace with your actual repo URL)\n",
        "!git clone https://github.com/ML-name/project.git\n",
        "%cd project\n",
        "\n",
        "# List all branches (optional, for checking)\n",
        "# !git branch -a"
      ]
    },
    {
      "cell_type": "code",
      "source": [
        "# Checkout YOUR branch (!!replace \"your-branch-name\"!!)\n",
        "!git checkout -b model/prompting origin/model/prompting"
      ],
      "metadata": {
        "id": "8Wkd42jki1Sj",
        "colab": {
          "base_uri": "https://localhost:8080/"
        },
        "outputId": "3b079c86-4b35-42ee-93ee-e99a2f3f72a8"
      },
      "execution_count": 2,
      "outputs": [
        {
          "output_type": "stream",
          "name": "stdout",
          "text": [
            "fatal: A branch named 'model/prompting' already exists.\n"
          ]
        }
      ]
    },
    {
      "cell_type": "markdown",
      "source": [
        "**--Install required libraries**"
      ],
      "metadata": {
        "id": "H_3ukDxmpsiK"
      }
    },
    {
      "cell_type": "code",
      "source": [
        "%pip install -r requirements.txt --quiet"
      ],
      "metadata": {
        "id": "-jkz-KdWpQnk"
      },
      "execution_count": 3,
      "outputs": []
    },
    {
      "cell_type": "code",
      "source": [
        "# Add src folder to python path to edit python files\n",
        "import sys\n",
        "sys.path.append('/content/project/')\n",
        "\n",
        "from google.colab import userdata\n",
        "import os\n",
        "openai_key = userdata.get(\"OPENAI_API_KEY\")\n",
        "os.environ[\"OPENAI_API_KEY\"] = openai_key"
      ],
      "metadata": {
        "id": "znN3vJE_i3Rm"
      },
      "execution_count": 4,
      "outputs": []
    },
    {
      "cell_type": "markdown",
      "source": [
        "**--Import modules (youre working on)**\n",
        "<br>*each of our classes will be what will merge to this notebook (im p sure)*\n",
        "<br>only loads what you explicitly request\n",
        "<br>(this helps keep memory low and import fast)\n",
        "<br> *the following is an example with my Rubric module*"
      ],
      "metadata": {
        "id": "n6U7apAmpXla"
      }
    },
    {
      "cell_type": "code",
      "source": [
        "!pip install --upgrade openai --quiet"
      ],
      "metadata": {
        "id": "Z0wHGvei4COH"
      },
      "execution_count": 5,
      "outputs": []
    },
    {
      "cell_type": "code",
      "source": [
        "from tropos import StudentSubmission\n",
        "from tropos.models import gpt\n",
        "\n",
        "example = StudentSubmission(\n",
        "    \"/content/project/data/raw/Student_1/Student_1_Part_1.docx\",\n",
        "    \"/content/project/data/raw/Requirements.docx\")\n",
        "target = StudentSubmission(\n",
        "    \"/content/project/data/unmarked_raw/Uncommented_Student_1.docx\",\n",
        "    \"/content/project/data/raw/Requirements.docx\")\n",
        "\n",
        "feedback = gpt.generate_feedback(example, target)\n",
        "print(feedback)"
      ],
      "metadata": {
        "id": "RRdoHlvYlOpo",
        "colab": {
          "base_uri": "https://localhost:8080/"
        },
        "outputId": "6ef84e0a-eafc-43c5-8cb7-3271cf4321b6"
      },
      "execution_count": 6,
      "outputs": [
        {
          "output_type": "stream",
          "name": "stdout",
          "text": [
            "No tables in document.\n",
            "Document contains no comments\n",
            "Inline Feedback:\n",
            "\n",
            "- \"Unfortunately, the year 2019 is known as the year of quarantine. Additionally, the year 2020 is known for the start of mask mandates.\" This introduction could be more engaging. Try starting with a dynamic statement that captures reader's attention immediately.\n",
            "- \"The mask mandate refers to the authoritative governmental policy of wearing a mask in certain settings when out in public.\" Good job explaining what a mask mandate is. However, you could also provide a brief historical context about mask mandates to further enrich your introduction.\n",
            "- \"Unfortunately, this turn in society had many questioning the purpose and well as the authority.\" This sentence is a little unclear. Try to be more specific in what you are trying to communicate.\n",
            "- \"The overall purpose is to reduce transmission of communicable disease. Statistically, noticeable declines were present with the implementation of masks in not only county level cases but also death rates.\" Great use of factual information to support your statement.\n",
            "- \"Although there are many approachable sides to the heated and debatable topic, one thing is certain. Mask mandating has undoubtedly created a divide in society.\" This is a strong transition to your analysis. It effectively sets up the argument you are about to explore.\n",
            "- \"Mask mandates were enforced for the purpose of protecting people. This enforcement that was initially intended for a reduction in the health crisis but is now being viewed as an increase in governmental control.\" These are powerful statements that could benefit from supporting evidence. Try to incorporate some sources that back up these claims.\n",
            "- \"Ultimately, both sides have rights and both sides feel the need to be respected. However, respect will not always grant you access to situations.\" This is a thoughtful conclusion, but it could be more specific. Try summarizing your main points and providing a clear answer to the question you posed at the beginning.\n",
            "\n",
            "Summary Feedback:\n",
            "\n",
            "This essay is well-researched and shows a clear understanding of the topic. You've done an excellent job of presenting both sides of the argument and your analysis is thoughtful and thorough. \n",
            "\n",
            "However, the essay could benefit from more engaging introduction and a more precise conclusion. The introduction should immediately grab the reader's interest, and the conclusion should provide a clear answer to the question you've posed. \n",
            "\n",
            "Also, while you provide a lot of information, some of your statements need more supporting evidence. Always back up your claims with reliable sources. \n",
            "\n",
            "Overall, your writing is clear and well-organized, and you've done a good job of staying focused on the topic. With a bit more attention to detail, this could be an outstanding essay. Keep up the good work!\n"
          ]
        }
      ]
    }
  ]
}