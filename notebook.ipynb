{
  "nbformat": 4,
  "nbformat_minor": 0,
  "metadata": {
    "colab": {
      "provenance": []
    },
    "kernelspec": {
      "name": "python3",
      "display_name": "Python 3"
    },
    "language_info": {
      "name": "python"
    }
  },
  "cells": [
    {
      "cell_type": "markdown",
      "source": [
        "# Main Feedback Generation Notebook\n",
        "This notebook handles preprocessing, model interaction, and feedback generation."
      ],
      "metadata": {
        "id": "ulDLZT4fNver"
      }
    },
    {
      "cell_type": "markdown",
      "source": [
        "**--Set up: Github, Paths, Imports**"
      ],
      "metadata": {
        "id": "FHsp7J0HplsS"
      }
    },
    {
      "cell_type": "code",
      "execution_count": 1,
      "metadata": {
        "id": "eCtHty9DikFr",
        "collapsed": true,
        "colab": {
          "base_uri": "https://localhost:8080/"
        },
        "outputId": "c3be6368-0401-49fb-d102-7129ed566c29"
      },
      "outputs": [
        {
          "output_type": "stream",
          "name": "stdout",
          "text": [
            "/content\n",
            "fatal: destination path 'project' already exists and is not an empty directory.\n",
            "/content/project\n",
            "  main\u001b[m\n",
            "* \u001b[32mscraping/rubric_table\u001b[m\n",
            "  \u001b[31mremotes/origin/16-steps-for-phase-1\u001b[m\n",
            "  \u001b[31mremotes/origin/HEAD\u001b[m -> origin/main\n",
            "  \u001b[31mremotes/origin/feat/create-gradio-ui\u001b[m\n",
            "  \u001b[31mremotes/origin/feat/preprocess-the-data-into-a-normalized-format\u001b[m\n",
            "  \u001b[31mremotes/origin/fix/imports-and-file-paths\u001b[m\n",
            "  \u001b[31mremotes/origin/main\u001b[m\n",
            "  \u001b[31mremotes/origin/prompting/Deepseek\u001b[m\n",
            "  \u001b[31mremotes/origin/prompting/Gemini\u001b[m\n",
            "  \u001b[31mremotes/origin/refactor/docs-and-APIs\u001b[m\n",
            "  \u001b[31mremotes/origin/refactor/py-and-output-documents\u001b[m\n",
            "  \u001b[31mremotes/origin/scraping/rubric_table\u001b[m\n",
            "  \u001b[31mremotes/origin/wip/prompting\u001b[m\n"
          ]
        }
      ],
      "source": [
        "# Mount Google Drive (optional, you'll get a prompt to authorize account)\n",
        "# from google.colab import drive\n",
        "# drive.mount('/content/drive')\n",
        "\n",
        "# Start in root Colab directory to avoid nesting\n",
        "%cd /content\n",
        "\n",
        "# Clone your GitHub repo (replace with your actual repo URL)\n",
        "!git clone https://github.com/ML-name/project.git\n",
        "%cd project\n",
        "\n",
        "# List all branches (optional, for checking)\n",
        "!git branch -a"
      ]
    },
    {
      "cell_type": "code",
      "source": [
        "# Checkout YOUR branch (!!replace \"your-branch-name\"!!)\n",
        "!git checkout scraping/rubric_table"
      ],
      "metadata": {
        "id": "8Wkd42jki1Sj",
        "colab": {
          "base_uri": "https://localhost:8080/"
        },
        "outputId": "b6a4e879-6412-4d3c-b86c-4c29f814da3f"
      },
      "execution_count": 2,
      "outputs": [
        {
          "output_type": "stream",
          "name": "stdout",
          "text": [
            "M\trequirements.txt\n",
            "M\ttropos/preprocess_docx/rubric.py\n",
            "Already on 'scraping/rubric_table'\n",
            "Your branch is up to date with 'origin/scraping/rubric_table'.\n"
          ]
        }
      ]
    },
    {
      "cell_type": "markdown",
      "source": [
        "**--Install required libraries and set paths**"
      ],
      "metadata": {
        "id": "H_3ukDxmpsiK"
      }
    },
    {
      "cell_type": "code",
      "source": [
        "%pip install -r requirements.txt\n",
        "!pip install python-docx\n",
        "\n",
        "# import data path for loading files\n",
        "import os\n",
        "\n",
        "# Base data directory\n",
        "data_base = '/content/project/data'\n",
        "\n",
        "# Paths to specific subfolders\n",
        "raw_data_path = os.path.join(data_base, 'raw')\n",
        "processed_data_path = os.path.join(data_base, 'processed')"
      ],
      "metadata": {
        "id": "-jkz-KdWpQnk",
        "colab": {
          "base_uri": "https://localhost:8080/"
        },
        "outputId": "b171c479-c7c8-40e5-ce8f-31a88fc66b56",
        "collapsed": true
      },
      "execution_count": 3,
      "outputs": [
        {
          "output_type": "stream",
          "name": "stdout",
          "text": [
            "Requirement already satisfied: gradio in /usr/local/lib/python3.11/dist-packages (from -r requirements.txt (line 1)) (5.23.2)\n",
            "Requirement already satisfied: langchain_openai in /usr/local/lib/python3.11/dist-packages (from -r requirements.txt (line 2)) (0.3.11)\n",
            "Requirement already satisfied: gradio_client in /usr/local/lib/python3.11/dist-packages (from -r requirements.txt (line 3)) (1.8.0)\n",
            "Requirement already satisfied: openai in /usr/local/lib/python3.11/dist-packages (from -r requirements.txt (line 4)) (1.69.0)\n",
            "Requirement already satisfied: aiofiles<24.0,>=22.0 in /usr/local/lib/python3.11/dist-packages (from gradio->-r requirements.txt (line 1)) (23.2.1)\n",
            "Requirement already satisfied: anyio<5.0,>=3.0 in /usr/local/lib/python3.11/dist-packages (from gradio->-r requirements.txt (line 1)) (4.9.0)\n",
            "Requirement already satisfied: fastapi<1.0,>=0.115.2 in /usr/local/lib/python3.11/dist-packages (from gradio->-r requirements.txt (line 1)) (0.115.12)\n",
            "Requirement already satisfied: ffmpy in /usr/local/lib/python3.11/dist-packages (from gradio->-r requirements.txt (line 1)) (0.5.0)\n",
            "Requirement already satisfied: groovy~=0.1 in /usr/local/lib/python3.11/dist-packages (from gradio->-r requirements.txt (line 1)) (0.1.2)\n",
            "Requirement already satisfied: httpx>=0.24.1 in /usr/local/lib/python3.11/dist-packages (from gradio->-r requirements.txt (line 1)) (0.28.1)\n",
            "Requirement already satisfied: huggingface-hub>=0.28.1 in /usr/local/lib/python3.11/dist-packages (from gradio->-r requirements.txt (line 1)) (0.29.3)\n",
            "Requirement already satisfied: jinja2<4.0 in /usr/local/lib/python3.11/dist-packages (from gradio->-r requirements.txt (line 1)) (3.1.6)\n",
            "Requirement already satisfied: markupsafe<4.0,>=2.0 in /usr/local/lib/python3.11/dist-packages (from gradio->-r requirements.txt (line 1)) (3.0.2)\n",
            "Requirement already satisfied: numpy<3.0,>=1.0 in /usr/local/lib/python3.11/dist-packages (from gradio->-r requirements.txt (line 1)) (2.0.2)\n",
            "Requirement already satisfied: orjson~=3.0 in /usr/local/lib/python3.11/dist-packages (from gradio->-r requirements.txt (line 1)) (3.10.16)\n",
            "Requirement already satisfied: packaging in /usr/local/lib/python3.11/dist-packages (from gradio->-r requirements.txt (line 1)) (24.2)\n",
            "Requirement already satisfied: pandas<3.0,>=1.0 in /usr/local/lib/python3.11/dist-packages (from gradio->-r requirements.txt (line 1)) (2.2.2)\n",
            "Requirement already satisfied: pillow<12.0,>=8.0 in /usr/local/lib/python3.11/dist-packages (from gradio->-r requirements.txt (line 1)) (11.1.0)\n",
            "Requirement already satisfied: pydantic<2.12,>=2.0 in /usr/local/lib/python3.11/dist-packages (from gradio->-r requirements.txt (line 1)) (2.11.0)\n",
            "Requirement already satisfied: pydub in /usr/local/lib/python3.11/dist-packages (from gradio->-r requirements.txt (line 1)) (0.25.1)\n",
            "Requirement already satisfied: python-multipart>=0.0.18 in /usr/local/lib/python3.11/dist-packages (from gradio->-r requirements.txt (line 1)) (0.0.20)\n",
            "Requirement already satisfied: pyyaml<7.0,>=5.0 in /usr/local/lib/python3.11/dist-packages (from gradio->-r requirements.txt (line 1)) (6.0.2)\n",
            "Requirement already satisfied: ruff>=0.9.3 in /usr/local/lib/python3.11/dist-packages (from gradio->-r requirements.txt (line 1)) (0.11.2)\n",
            "Requirement already satisfied: safehttpx<0.2.0,>=0.1.6 in /usr/local/lib/python3.11/dist-packages (from gradio->-r requirements.txt (line 1)) (0.1.6)\n",
            "Requirement already satisfied: semantic-version~=2.0 in /usr/local/lib/python3.11/dist-packages (from gradio->-r requirements.txt (line 1)) (2.10.0)\n",
            "Requirement already satisfied: starlette<1.0,>=0.40.0 in /usr/local/lib/python3.11/dist-packages (from gradio->-r requirements.txt (line 1)) (0.46.1)\n",
            "Requirement already satisfied: tomlkit<0.14.0,>=0.12.0 in /usr/local/lib/python3.11/dist-packages (from gradio->-r requirements.txt (line 1)) (0.13.2)\n",
            "Requirement already satisfied: typer<1.0,>=0.12 in /usr/local/lib/python3.11/dist-packages (from gradio->-r requirements.txt (line 1)) (0.15.2)\n",
            "Requirement already satisfied: typing-extensions~=4.0 in /usr/local/lib/python3.11/dist-packages (from gradio->-r requirements.txt (line 1)) (4.13.0)\n",
            "Requirement already satisfied: uvicorn>=0.14.0 in /usr/local/lib/python3.11/dist-packages (from gradio->-r requirements.txt (line 1)) (0.34.0)\n",
            "Requirement already satisfied: fsspec in /usr/local/lib/python3.11/dist-packages (from gradio_client->-r requirements.txt (line 3)) (2025.3.0)\n",
            "Requirement already satisfied: websockets<16.0,>=10.0 in /usr/local/lib/python3.11/dist-packages (from gradio_client->-r requirements.txt (line 3)) (15.0.1)\n",
            "Requirement already satisfied: langchain-core<1.0.0,>=0.3.49 in /usr/local/lib/python3.11/dist-packages (from langchain_openai->-r requirements.txt (line 2)) (0.3.49)\n",
            "Requirement already satisfied: tiktoken<1,>=0.7 in /usr/local/lib/python3.11/dist-packages (from langchain_openai->-r requirements.txt (line 2)) (0.9.0)\n",
            "Requirement already satisfied: distro<2,>=1.7.0 in /usr/local/lib/python3.11/dist-packages (from openai->-r requirements.txt (line 4)) (1.9.0)\n",
            "Requirement already satisfied: jiter<1,>=0.4.0 in /usr/local/lib/python3.11/dist-packages (from openai->-r requirements.txt (line 4)) (0.9.0)\n",
            "Requirement already satisfied: sniffio in /usr/local/lib/python3.11/dist-packages (from openai->-r requirements.txt (line 4)) (1.3.1)\n",
            "Requirement already satisfied: tqdm>4 in /usr/local/lib/python3.11/dist-packages (from openai->-r requirements.txt (line 4)) (4.67.1)\n",
            "Requirement already satisfied: idna>=2.8 in /usr/local/lib/python3.11/dist-packages (from anyio<5.0,>=3.0->gradio->-r requirements.txt (line 1)) (3.10)\n",
            "Requirement already satisfied: certifi in /usr/local/lib/python3.11/dist-packages (from httpx>=0.24.1->gradio->-r requirements.txt (line 1)) (2025.1.31)\n",
            "Requirement already satisfied: httpcore==1.* in /usr/local/lib/python3.11/dist-packages (from httpx>=0.24.1->gradio->-r requirements.txt (line 1)) (1.0.7)\n",
            "Requirement already satisfied: h11<0.15,>=0.13 in /usr/local/lib/python3.11/dist-packages (from httpcore==1.*->httpx>=0.24.1->gradio->-r requirements.txt (line 1)) (0.14.0)\n",
            "Requirement already satisfied: filelock in /usr/local/lib/python3.11/dist-packages (from huggingface-hub>=0.28.1->gradio->-r requirements.txt (line 1)) (3.18.0)\n",
            "Requirement already satisfied: requests in /usr/local/lib/python3.11/dist-packages (from huggingface-hub>=0.28.1->gradio->-r requirements.txt (line 1)) (2.32.3)\n",
            "Requirement already satisfied: langsmith<0.4,>=0.1.125 in /usr/local/lib/python3.11/dist-packages (from langchain-core<1.0.0,>=0.3.49->langchain_openai->-r requirements.txt (line 2)) (0.3.19)\n",
            "Requirement already satisfied: tenacity!=8.4.0,<10.0.0,>=8.1.0 in /usr/local/lib/python3.11/dist-packages (from langchain-core<1.0.0,>=0.3.49->langchain_openai->-r requirements.txt (line 2)) (9.0.0)\n",
            "Requirement already satisfied: jsonpatch<2.0,>=1.33 in /usr/local/lib/python3.11/dist-packages (from langchain-core<1.0.0,>=0.3.49->langchain_openai->-r requirements.txt (line 2)) (1.33)\n",
            "Requirement already satisfied: python-dateutil>=2.8.2 in /usr/local/lib/python3.11/dist-packages (from pandas<3.0,>=1.0->gradio->-r requirements.txt (line 1)) (2.8.2)\n",
            "Requirement already satisfied: pytz>=2020.1 in /usr/local/lib/python3.11/dist-packages (from pandas<3.0,>=1.0->gradio->-r requirements.txt (line 1)) (2025.2)\n",
            "Requirement already satisfied: tzdata>=2022.7 in /usr/local/lib/python3.11/dist-packages (from pandas<3.0,>=1.0->gradio->-r requirements.txt (line 1)) (2025.2)\n",
            "Requirement already satisfied: annotated-types>=0.6.0 in /usr/local/lib/python3.11/dist-packages (from pydantic<2.12,>=2.0->gradio->-r requirements.txt (line 1)) (0.7.0)\n",
            "Requirement already satisfied: pydantic-core==2.33.0 in /usr/local/lib/python3.11/dist-packages (from pydantic<2.12,>=2.0->gradio->-r requirements.txt (line 1)) (2.33.0)\n",
            "Requirement already satisfied: typing-inspection>=0.4.0 in /usr/local/lib/python3.11/dist-packages (from pydantic<2.12,>=2.0->gradio->-r requirements.txt (line 1)) (0.4.0)\n",
            "Requirement already satisfied: regex>=2022.1.18 in /usr/local/lib/python3.11/dist-packages (from tiktoken<1,>=0.7->langchain_openai->-r requirements.txt (line 2)) (2024.11.6)\n",
            "Requirement already satisfied: click>=8.0.0 in /usr/local/lib/python3.11/dist-packages (from typer<1.0,>=0.12->gradio->-r requirements.txt (line 1)) (8.1.8)\n",
            "Requirement already satisfied: shellingham>=1.3.0 in /usr/local/lib/python3.11/dist-packages (from typer<1.0,>=0.12->gradio->-r requirements.txt (line 1)) (1.5.4)\n",
            "Requirement already satisfied: rich>=10.11.0 in /usr/local/lib/python3.11/dist-packages (from typer<1.0,>=0.12->gradio->-r requirements.txt (line 1)) (13.9.4)\n",
            "Requirement already satisfied: jsonpointer>=1.9 in /usr/local/lib/python3.11/dist-packages (from jsonpatch<2.0,>=1.33->langchain-core<1.0.0,>=0.3.49->langchain_openai->-r requirements.txt (line 2)) (3.0.0)\n",
            "Requirement already satisfied: requests-toolbelt<2.0.0,>=1.0.0 in /usr/local/lib/python3.11/dist-packages (from langsmith<0.4,>=0.1.125->langchain-core<1.0.0,>=0.3.49->langchain_openai->-r requirements.txt (line 2)) (1.0.0)\n",
            "Requirement already satisfied: zstandard<0.24.0,>=0.23.0 in /usr/local/lib/python3.11/dist-packages (from langsmith<0.4,>=0.1.125->langchain-core<1.0.0,>=0.3.49->langchain_openai->-r requirements.txt (line 2)) (0.23.0)\n",
            "Requirement already satisfied: six>=1.5 in /usr/local/lib/python3.11/dist-packages (from python-dateutil>=2.8.2->pandas<3.0,>=1.0->gradio->-r requirements.txt (line 1)) (1.17.0)\n",
            "Requirement already satisfied: charset-normalizer<4,>=2 in /usr/local/lib/python3.11/dist-packages (from requests->huggingface-hub>=0.28.1->gradio->-r requirements.txt (line 1)) (3.4.1)\n",
            "Requirement already satisfied: urllib3<3,>=1.21.1 in /usr/local/lib/python3.11/dist-packages (from requests->huggingface-hub>=0.28.1->gradio->-r requirements.txt (line 1)) (2.3.0)\n",
            "Requirement already satisfied: markdown-it-py>=2.2.0 in /usr/local/lib/python3.11/dist-packages (from rich>=10.11.0->typer<1.0,>=0.12->gradio->-r requirements.txt (line 1)) (3.0.0)\n",
            "Requirement already satisfied: pygments<3.0.0,>=2.13.0 in /usr/local/lib/python3.11/dist-packages (from rich>=10.11.0->typer<1.0,>=0.12->gradio->-r requirements.txt (line 1)) (2.18.0)\n",
            "Requirement already satisfied: mdurl~=0.1 in /usr/local/lib/python3.11/dist-packages (from markdown-it-py>=2.2.0->rich>=10.11.0->typer<1.0,>=0.12->gradio->-r requirements.txt (line 1)) (0.1.2)\n",
            "Requirement already satisfied: python-docx in /usr/local/lib/python3.11/dist-packages (1.1.2)\n",
            "Requirement already satisfied: lxml>=3.1.0 in /usr/local/lib/python3.11/dist-packages (from python-docx) (5.3.1)\n",
            "Requirement already satisfied: typing-extensions>=4.9.0 in /usr/local/lib/python3.11/dist-packages (from python-docx) (4.13.0)\n"
          ]
        }
      ]
    },
    {
      "cell_type": "markdown",
      "source": [
        "**--Import modules (youre working on)**\n",
        "<br>*each of our classes will be what will merge to this notebook (im p sure)*\n",
        "<br>only loads what you explicitly request\n",
        "<br>(this helps keep memory low and import fast)\n",
        "<br> *the following is an example with my Rubric module*"
      ],
      "metadata": {
        "id": "n6U7apAmpXla"
      }
    },
    {
      "cell_type": "markdown",
      "source": [
        "## Rubric scraper"
      ],
      "metadata": {
        "id": "gZuDCyhpgZQv"
      }
    },
    {
      "cell_type": "code",
      "source": [
        "# Add your src folder to the Python path\n",
        "import sys\n",
        "sys.path.append('/content/project/')\n",
        "\n",
        "from tropos.preprocess_docx.rubric import Rubric, parse_rubric, extract_highlighted_phrases\n",
        "\n",
        "from docx import Document\n",
        "\n",
        "# loop through tables and cells\n",
        "doc_path = \"/content/project/data/raw/Student 1/Student 1 Part 1.docx\"\n",
        "rubric = parse_rubric(doc_path)\n",
        "highlights = extract_highlighted_phrases(doc_path)\n"
      ],
      "metadata": {
        "id": "nGmGdRVhgXIj",
        "collapsed": true
      },
      "execution_count": 4,
      "outputs": []
    },
    {
      "cell_type": "code",
      "source": [
        "for h in highlights:\n",
        "    print(f'\"{h[\"text\"]}\" → {h[\"highlight\"]}')\n",
        "\n",
        "for row in rubric.get_criteria():\n",
        "    print(\"Portion:\", row[\"portion\"])\n",
        "    print(\"Criteria:\", row[\"criteria\"][\"text\"])\n",
        "\n",
        "    row_highs = row[\"criteria\"].get(\"highlights\", [])\n",
        "    if row_highs:\n",
        "        print(\"Highlights:\")\n",
        "        for h in row_highs:\n",
        "            print(f\"  - \\\"{h['text']}\\\" (color: {h['highlight']})\")\n",
        "    else:\n",
        "        print(\"Highlights: None\")\n",
        "\n",
        "    print(\"Feedback:\", row[\"feedback\"])\n",
        "    print(\"-\" * 50)"
      ],
      "metadata": {
        "colab": {
          "base_uri": "https://localhost:8080/"
        },
        "id": "5Rnfd43QnD2b",
        "outputId": "bce10205-ef71-4185-c00e-cc975bbe49dc"
      },
      "execution_count": 5,
      "outputs": [
        {
          "output_type": "stream",
          "name": "stdout",
          "text": [
            "\"Uses credible, neutral sources\" → green\n",
            "\"Effectively and sufficiently explains essential information\" → yellow\n",
            "\"Written objectively in own words\" → yellow\n",
            "\"Well organized and focused paragraphs with transitions\" → red\n",
            "\"Minimal error\" → yellow\n",
            "Portion: Introduction\n",
            "Criteria: Engaging\n",
            "Shows importance of question\n",
            "Indicates major parts and content\n",
            "Highlights:\n",
            "  - \"Uses credible, neutral sources\" (color: green)\n",
            "  - \"Effectively and sufficiently explains essential information\" (color: yellow)\n",
            "  - \"Written objectively in own words\" (color: yellow)\n",
            "  - \"Well organized and focused paragraphs with transitions\" (color: red)\n",
            "  - \"Minimal error\" (color: yellow)\n",
            "Feedback: \n",
            "--------------------------------------------------\n",
            "Portion: Background\n",
            "Criteria: Uses credible, neutral sources\n",
            "Effectively and sufficiently explains essential information\n",
            "Written objectively in own words\n",
            "Well organized and focused paragraphs with transitions\n",
            "Minimal error\n",
            "Highlights:\n",
            "  - \"Uses credible, neutral sources\" (color: green)\n",
            "  - \"Effectively and sufficiently explains essential information\" (color: yellow)\n",
            "  - \"Written objectively in own words\" (color: yellow)\n",
            "  - \"Well organized and focused paragraphs with transitions\" (color: red)\n",
            "  - \"Minimal error\" (color: yellow)\n",
            "Feedback: I like the history parts.\n",
            "\n",
            "What’s missing is more about what the mandate looked like: how it was “enforced” and a little more about wearing masks properly.\n",
            "--------------------------------------------------\n",
            "Portion: Analysis\n",
            "Criteria: Smooth transition from background\n",
            "Summarizes accurately and in own words two opposing answers and one objective answer to the question\n",
            "Recognizes and shows bias\n",
            "Reasonable observations about how all sources make their arguments impactful\n",
            "Well-organized and focused paragraphs with transitions\n",
            "Minimal error\n",
            "Highlights:\n",
            "  - \"Uses credible, neutral sources\" (color: green)\n",
            "  - \"Effectively and sufficiently explains essential information\" (color: yellow)\n",
            "  - \"Written objectively in own words\" (color: yellow)\n",
            "  - \"Well organized and focused paragraphs with transitions\" (color: red)\n",
            "  - \"Minimal error\" (color: yellow)\n",
            "Feedback: \n",
            "--------------------------------------------------\n",
            "Portion: Response\n",
            "Criteria: Smooth transition from analysis\n",
            "Incorporates strong points from sources\n",
            "Draws a reasonable and well-supported conclusion, answering the question\n",
            "Provides satisfying conclusion to the project\n",
            "Good transitions between focused paragraphs\n",
            "Minimal error\n",
            "Highlights:\n",
            "  - \"Uses credible, neutral sources\" (color: green)\n",
            "  - \"Effectively and sufficiently explains essential information\" (color: yellow)\n",
            "  - \"Written objectively in own words\" (color: yellow)\n",
            "  - \"Well organized and focused paragraphs with transitions\" (color: red)\n",
            "  - \"Minimal error\" (color: yellow)\n",
            "Feedback: \n",
            "--------------------------------------------------\n"
          ]
        }
      ]
    },
    {
      "cell_type": "code",
      "source": [],
      "metadata": {
        "id": "wSY6iaQ8dvFR"
      },
      "execution_count": 5,
      "outputs": []
    }
  ]
}