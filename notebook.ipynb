{
  "nbformat": 4,
  "nbformat_minor": 0,
  "metadata": {
    "colab": {
      "provenance": []
    },
    "kernelspec": {
      "name": "python3",
      "display_name": "Python 3"
    },
    "language_info": {
      "name": "python"
    }
  },
  "cells": [
    {
      "cell_type": "markdown",
      "source": [
        "# Main Feedback Generation Notebook\n",
        "This notebook handles preprocessing, model interaction, and feedback generation."
      ],
      "metadata": {
        "id": "ulDLZT4fNver"
      }
    },
    {
      "cell_type": "markdown",
      "source": [
        "**--Set up: Github, Paths, Imports**"
      ],
      "metadata": {
        "id": "FHsp7J0HplsS"
      }
    },
    {
      "cell_type": "code",
      "execution_count": 1,
      "metadata": {
        "id": "eCtHty9DikFr",
        "collapsed": true,
        "colab": {
          "base_uri": "https://localhost:8080/"
        },
        "outputId": "7d971328-2b18-481b-88ba-46199f9493e1"
      },
      "outputs": [
        {
          "output_type": "stream",
          "name": "stdout",
          "text": [
            "/content\n",
            "fatal: destination path 'project' already exists and is not an empty directory.\n",
            "/content/project\n"
          ]
        }
      ],
      "source": [
        "# Mount Google Drive (optional, you'll get a prompt to authorize account)\n",
        "# from google.colab import drive\n",
        "# drive.mount('/content/drive')\n",
        "\n",
        "# Start in root Colab directory to avoid nesting\n",
        "%cd /content\n",
        "\n",
        "# Clone your GitHub repo (replace with your actual repo URL)\n",
        "!git clone https://github.com/ML-name/project.git\n",
        "%cd project\n",
        "\n",
        "# List all branches (optional, for checking)\n",
        "# !git branch -a"
      ]
    },
    {
      "cell_type": "code",
      "source": [
        "# Checkout YOUR branch (!!replace \"your-branch-name\"!!)\n",
        "!git checkout -b model/prompting origin/model/prompting"
      ],
      "metadata": {
        "id": "8Wkd42jki1Sj",
        "colab": {
          "base_uri": "https://localhost:8080/"
        },
        "outputId": "520d4b9c-410c-4be0-96db-e50f877479dd"
      },
      "execution_count": 2,
      "outputs": [
        {
          "output_type": "stream",
          "name": "stdout",
          "text": [
            "fatal: A branch named 'model/prompting' already exists.\n"
          ]
        }
      ]
    },
    {
      "cell_type": "markdown",
      "source": [
        "**--Install required libraries**"
      ],
      "metadata": {
        "id": "H_3ukDxmpsiK"
      }
    },
    {
      "cell_type": "code",
      "source": [
        "%pip install -r requirements.txt --quiet"
      ],
      "metadata": {
        "id": "-jkz-KdWpQnk"
      },
      "execution_count": 3,
      "outputs": []
    },
    {
      "cell_type": "code",
      "source": [
        "# Add src folder to python path to edit python files\n",
        "import sys\n",
        "sys.path.append('/content/project/')\n",
        "\n",
        "from google.colab import userdata\n",
        "import os\n",
        "openai_key = userdata.get(\"OPENAI_API_KEY\")\n",
        "os.environ[\"OPENAI_API_KEY\"] = openai_key"
      ],
      "metadata": {
        "id": "znN3vJE_i3Rm"
      },
      "execution_count": 4,
      "outputs": []
    },
    {
      "cell_type": "markdown",
      "source": [
        "**--Import modules (youre working on)**\n",
        "<br>*each of our classes will be what will merge to this notebook (im p sure)*\n",
        "<br>only loads what you explicitly request\n",
        "<br>(this helps keep memory low and import fast)\n",
        "<br> *the following is an example with my Rubric module*"
      ],
      "metadata": {
        "id": "n6U7apAmpXla"
      }
    },
    {
      "cell_type": "code",
      "source": [
        "!pip install --upgrade openai --quiet"
      ],
      "metadata": {
        "id": "Z0wHGvei4COH"
      },
      "execution_count": 5,
      "outputs": []
    },
    {
      "cell_type": "code",
      "source": [
        "from tropos import StudentSubmission\n",
        "from tropos.models import gpt\n",
        "\n",
        "example = StudentSubmission(\n",
        "    \"/content/project/data/raw/Student_1/Student_1_Part_1.docx\",\n",
        "    \"/content/project/data/raw/Requirements.docx\")\n",
        "target = StudentSubmission(\n",
        "    \"/content/project/data/unmarked_raw/Uncommented_Student_1.docx\",\n",
        "    \"/content/project/data/raw/Requirements.docx\")\n",
        "\n",
        "feedback = gpt.generate_feedback(example, target)\n",
        "print(feedback)"
      ],
      "metadata": {
        "id": "RRdoHlvYlOpo",
        "colab": {
          "base_uri": "https://localhost:8080/"
        },
        "outputId": "9472d983-f152-48ef-d673-e7c817112f88"
      },
      "execution_count": 6,
      "outputs": [
        {
          "output_type": "stream",
          "name": "stdout",
          "text": [
            "No tables in document.\n",
            "Document contains no comments\n",
            "Inline Feedback: \n",
            "\n",
            "- \"At first, the public was confused about the new virus. A year later, the public questioned governmental enforcement regarding the mask mandate.\" – It would be beneficial to offer more context to these statements. How was the public confused? What information was lacking? What specific governmental enforcement caused questions?\n",
            "\n",
            "- \"The viral disease was new with few studies to provide accurate and desperately needed answers to oftenly sought questions.\" – The term \"oftenly\" is not commonly used. A better choice of words might be \"frequently asked questions\" or \"common questions about the disease.\"\n",
            "\n",
            "- \"A considerable point made to question the effectiveness of the mandate, questions if the United States would have seen a further deduction in COVID rates if the national mandate was implemented earlier on.\" – This sentence is a bit convoluted. Simplify your language and structure for clarity.\n",
            "\n",
            "- \"In regards to governmental control and the overpowering of basic human rights, currently no specific laws exist that support this stance.\" – This sentence would benefit from being restructured for clarity. It may be better to say, \"Currently, no specific laws support the stance that governmental control and the overpowering of basic human rights are occurring.\"\n",
            "\n",
            "Summary Feedback:\n",
            "Your essay shows a comprehensive understanding of the topic and you've clearly done your research. You've done a good job presenting both sides of the argument and citing your sources. Your writing style is engaging and your arguments are well-structured, which makes your essay easy to follow.\n",
            "\n",
            "However, there are a few areas where you could improve. Be cautious of your sentence structure as some of them are convoluted or use uncommon terms, which can make your essay harder to understand. Always aim for clarity and simplicity in your writing. Additionally, while you've done a good job presenting both sides of the argument, your analysis could be deeper. Try to delve further into each perspective and offer more of your own insight.\n",
            "\n",
            "Finally, don't forget the importance of a strong conclusion. While your conclusion does summarize the essay well, it could be more impactful. Consider ending with a thought-provoking statement or question to leave a lasting impression on your reader.\n"
          ]
        }
      ]
    },
    {
      "cell_type": "code",
      "source": [
        "from tropos.docx_writer import write_feedback_to_docx\n",
        "\n",
        "#write to docx with feedback\n",
        "write_feedback_to_docx(\n",
        "    submission_path=\"/content/project/data/unmarked_raw/Uncommented_Student_1.docx\",\n",
        "    feedback_text=feedback,\n",
        "    output_path=\"/content/project/data/generated_output/CommentedOneShot_Student_1.docx\"\n",
        ")\n",
        "\n",
        "#from utils.feedback_formatting import format_feedback_blocks\n",
        "#format_feedback_blocks(feedback)"
      ],
      "metadata": {
        "id": "_D_vwndJNzgq"
      },
      "execution_count": 8,
      "outputs": []
    },
    {
      "cell_type": "code",
      "source": [],
      "metadata": {
        "id": "0o6quZzvSTN6"
      },
      "execution_count": 7,
      "outputs": []
    }
  ]
}