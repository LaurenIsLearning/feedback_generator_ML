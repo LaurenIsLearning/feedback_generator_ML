{
  "nbformat": 4,
  "nbformat_minor": 0,
  "metadata": {
    "colab": {
      "provenance": []
    },
    "kernelspec": {
      "name": "python3",
      "display_name": "Python 3"
    },
    "language_info": {
      "name": "python"
    }
  },
  "cells": [
    {
      "cell_type": "markdown",
      "source": [
        "# Install necessary libraries"
      ],
      "metadata": {
        "id": "gXS1cZVBACwV"
      }
    },
    {
      "cell_type": "code",
      "execution_count": null,
      "metadata": {
        "collapsed": true,
        "id": "SolukC_n_1Dr"
      },
      "outputs": [],
      "source": [
        "# The libraries:\n",
        "# Transformers - for loading the Llama 2 model\n",
        "# Datasets - for working with training data\n",
        "# Accelerate - optimizes model execution\n",
        "# bitesandbytes - allowes 4-bit quantization (reduces VRAM usage)\n",
        "# PEFT (Parameter0Efficient Fine-Tuning) - enables lightweight training\n",
        "# SentencePiece - tokenizes text for models like Llama\n",
        "# Gradio - creates a web interface to test the model\n",
        "# torch - PyTorch\n",
        "!pip install transformers datasets accelerate bitsandbytes peft sentencepiece gradio torch"
      ]
    },
    {
      "cell_type": "markdown",
      "source": [
        "# Load the Llama 2 Model & Tokenizer\n"
      ],
      "metadata": {
        "id": "AMO9g4-UBju9"
      }
    },
    {
      "cell_type": "code",
      "source": [
        "from transformers import AutoModelForCausalLM, AutoTokenizer, TrainingArguments, Trainer\n",
        "from peft import LoraConfig, get_peft_model\n",
        "import torch\n",
        "import datasets\n",
        "import gradio as gr #UI interface\n",
        "\n",
        "# set model (using a quantized Llama 2-7B model to fit Colab's VRAM)\n",
        "model_name = \"meta-llama/Llama-2-7b-chat-hf\"\n",
        "tokenizer = AutoTokenizer.from_pretrained(model_name)\n",
        "\n",
        "# load model in 4-bit mode for efficiency\n",
        "model = AutoModelForCausalLM.from_pretrained(\n",
        "    model_name,\n",
        "    device_map=\"auto\", # auto-detects available GPU\n",
        "    load_in_4bit=True) # loads a quantized 4-bit version"
      ],
      "metadata": {
        "id": "uNvGH4hrAwbf"
      },
      "execution_count": null,
      "outputs": []
    },
    {
      "cell_type": "markdown",
      "source": [
        "# Load dataset (replace with actual dataset source)"
      ],
      "metadata": {
        "id": "ABuqCR6yFIw5"
      }
    },
    {
      "cell_type": "code",
      "source": [
        "dataset_source = \"path/to/dataset_or_api_call\"  # TODO: TEMPORARY VALUE - Replace with real source\n",
        "dataset = datasets.load_dataset(dataset_source)  # TODO: Example loading function\n"
      ],
      "metadata": {
        "id": "VAwyLrdUEZHo"
      },
      "execution_count": null,
      "outputs": []
    },
    {
      "cell_type": "markdown",
      "source": [
        "# Tokenization and training parameters"
      ],
      "metadata": {
        "id": "SiZgfCaMFe34"
      }
    },
    {
      "cell_type": "code",
      "source": [
        "# Tokenization function\n",
        "def tokenize_function(examples):\n",
        "    return tokenizer(examples[\"input\"], text_target=examples[\"output\"], padding=\"max_length\", truncation=True)\n",
        "\n",
        "tokenized_dataset = dataset.map(tokenize_function, batched=True)\n",
        "\n",
        "# training parameters\n",
        "training_args = TrainingArguments(\n",
        "    output_dir=\"./results\",\n",
        "    evaluation_strategy=\"epoch\"\n",
        "    per_device_train_batch_size=2,  # Low batch size to fit in free-tier GPU\n",
        "    num_train_epochs=3, # short training run for testing\n",
        "    logging_dir=\"./logs\",\n",
        ")\n",
        "\n",
        "trainer = Trainer(\n",
        "    model=model,\n",
        "    args=training_args,\n",
        "    train_dataset=tokenized_dataset\n",
        ")"
      ],
      "metadata": {
        "id": "5fqsmeH9Fklc"
      },
      "execution_count": null,
      "outputs": []
    },
    {
      "cell_type": "markdown",
      "source": [
        "# Train and save model"
      ],
      "metadata": {
        "id": "gbhtDAX1GfYN"
      }
    },
    {
      "cell_type": "code",
      "source": [
        "# Train the model\n",
        "trainer.train()\n",
        "\n",
        "# Save fine-tuned model\n",
        "model.save_pretrained(\"fine-tuned-feedback-model\")\n",
        "tokenizer.save_pretrained(\"fine-tuned-feedback-model\")\n",
        "\n",
        "print(\"Model training completed and saved!\")"
      ],
      "metadata": {
        "id": "XaSpV6g2GjaX"
      },
      "execution_count": null,
      "outputs": []
    },
    {
      "cell_type": "markdown",
      "source": [
        "# Gradio web interface for testing"
      ],
      "metadata": {
        "id": "VV4kqWakGnge"
      }
    },
    {
      "cell_type": "code",
      "source": [
        "def generate_feedback(input_text):\n",
        "  inputs = tokenizer(input_text, return_tensors=\"pt\").to(\"cuda\")\n",
        "  output = model.generate(**inputs, max_new_tokens=100)\n",
        "  return tokenizer.decode(output[0])\n",
        "\n",
        "demo = gr.Interface(fn=generate_feedback, inputs=\"text\", outputs=\"text\")\n",
        "demo.launch()"
      ],
      "metadata": {
        "id": "S3icNpUdGrfZ"
      },
      "execution_count": null,
      "outputs": []
    }
  ]
}