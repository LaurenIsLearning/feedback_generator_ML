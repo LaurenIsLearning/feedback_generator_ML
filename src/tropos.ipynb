{
  "nbformat": 4,
  "nbformat_minor": 0,
  "metadata": {
    "colab": {
      "provenance": [],
      "collapsed_sections": [
        "toV_KnKSVi4_"
      ]
    },
    "kernelspec": {
      "name": "python3",
      "display_name": "Python 3"
    },
    "language_info": {
      "name": "python"
    }
  },
  "cells": [
    {
      "cell_type": "markdown",
      "source": [
        "# Install necessary libraries"
      ],
      "metadata": {
        "id": "gXS1cZVBACwV"
      }
    },
    {
      "cell_type": "code",
      "execution_count": 1,
      "metadata": {
        "collapsed": true,
        "id": "SolukC_n_1Dr",
        "colab": {
          "base_uri": "https://localhost:8080/"
        },
        "outputId": "51e58ac2-54c3-456d-e216-345931f53328"
      },
      "outputs": [
        {
          "output_type": "stream",
          "name": "stdout",
          "text": [
            "Requirement already satisfied: openai in /usr/local/lib/python3.11/dist-packages (1.61.1)\n",
            "Collecting gradio\n",
            "  Downloading gradio-5.21.0-py3-none-any.whl.metadata (16 kB)\n",
            "Requirement already satisfied: anyio<5,>=3.5.0 in /usr/local/lib/python3.11/dist-packages (from openai) (3.7.1)\n",
            "Requirement already satisfied: distro<2,>=1.7.0 in /usr/local/lib/python3.11/dist-packages (from openai) (1.9.0)\n",
            "Requirement already satisfied: httpx<1,>=0.23.0 in /usr/local/lib/python3.11/dist-packages (from openai) (0.28.1)\n",
            "Requirement already satisfied: jiter<1,>=0.4.0 in /usr/local/lib/python3.11/dist-packages (from openai) (0.9.0)\n",
            "Requirement already satisfied: pydantic<3,>=1.9.0 in /usr/local/lib/python3.11/dist-packages (from openai) (2.10.6)\n",
            "Requirement already satisfied: sniffio in /usr/local/lib/python3.11/dist-packages (from openai) (1.3.1)\n",
            "Requirement already satisfied: tqdm>4 in /usr/local/lib/python3.11/dist-packages (from openai) (4.67.1)\n",
            "Requirement already satisfied: typing-extensions<5,>=4.11 in /usr/local/lib/python3.11/dist-packages (from openai) (4.12.2)\n",
            "Collecting aiofiles<24.0,>=22.0 (from gradio)\n",
            "  Downloading aiofiles-23.2.1-py3-none-any.whl.metadata (9.7 kB)\n",
            "Collecting fastapi<1.0,>=0.115.2 (from gradio)\n",
            "  Downloading fastapi-0.115.11-py3-none-any.whl.metadata (27 kB)\n",
            "Collecting ffmpy (from gradio)\n",
            "  Downloading ffmpy-0.5.0-py3-none-any.whl.metadata (3.0 kB)\n",
            "Collecting gradio-client==1.7.2 (from gradio)\n",
            "  Downloading gradio_client-1.7.2-py3-none-any.whl.metadata (7.1 kB)\n",
            "Collecting groovy~=0.1 (from gradio)\n",
            "  Downloading groovy-0.1.2-py3-none-any.whl.metadata (6.1 kB)\n",
            "Requirement already satisfied: huggingface-hub>=0.28.1 in /usr/local/lib/python3.11/dist-packages (from gradio) (0.28.1)\n",
            "Requirement already satisfied: jinja2<4.0 in /usr/local/lib/python3.11/dist-packages (from gradio) (3.1.6)\n",
            "Collecting markupsafe~=2.0 (from gradio)\n",
            "  Downloading MarkupSafe-2.1.5-cp311-cp311-manylinux_2_17_x86_64.manylinux2014_x86_64.whl.metadata (3.0 kB)\n",
            "Requirement already satisfied: numpy<3.0,>=1.0 in /usr/local/lib/python3.11/dist-packages (from gradio) (1.26.4)\n",
            "Requirement already satisfied: orjson~=3.0 in /usr/local/lib/python3.11/dist-packages (from gradio) (3.10.15)\n",
            "Requirement already satisfied: packaging in /usr/local/lib/python3.11/dist-packages (from gradio) (24.2)\n",
            "Requirement already satisfied: pandas<3.0,>=1.0 in /usr/local/lib/python3.11/dist-packages (from gradio) (2.2.2)\n",
            "Requirement already satisfied: pillow<12.0,>=8.0 in /usr/local/lib/python3.11/dist-packages (from gradio) (11.1.0)\n",
            "Collecting pydub (from gradio)\n",
            "  Downloading pydub-0.25.1-py2.py3-none-any.whl.metadata (1.4 kB)\n",
            "Collecting python-multipart>=0.0.18 (from gradio)\n",
            "  Downloading python_multipart-0.0.20-py3-none-any.whl.metadata (1.8 kB)\n",
            "Requirement already satisfied: pyyaml<7.0,>=5.0 in /usr/local/lib/python3.11/dist-packages (from gradio) (6.0.2)\n",
            "Collecting ruff>=0.9.3 (from gradio)\n",
            "  Downloading ruff-0.11.0-py3-none-manylinux_2_17_x86_64.manylinux2014_x86_64.whl.metadata (25 kB)\n",
            "Collecting safehttpx<0.2.0,>=0.1.6 (from gradio)\n",
            "  Downloading safehttpx-0.1.6-py3-none-any.whl.metadata (4.2 kB)\n",
            "Collecting semantic-version~=2.0 (from gradio)\n",
            "  Downloading semantic_version-2.10.0-py2.py3-none-any.whl.metadata (9.7 kB)\n",
            "Collecting starlette<1.0,>=0.40.0 (from gradio)\n",
            "  Downloading starlette-0.46.1-py3-none-any.whl.metadata (6.2 kB)\n",
            "Collecting tomlkit<0.14.0,>=0.12.0 (from gradio)\n",
            "  Downloading tomlkit-0.13.2-py3-none-any.whl.metadata (2.7 kB)\n",
            "Requirement already satisfied: typer<1.0,>=0.12 in /usr/local/lib/python3.11/dist-packages (from gradio) (0.15.2)\n",
            "Collecting uvicorn>=0.14.0 (from gradio)\n",
            "  Downloading uvicorn-0.34.0-py3-none-any.whl.metadata (6.5 kB)\n",
            "Requirement already satisfied: fsspec in /usr/local/lib/python3.11/dist-packages (from gradio-client==1.7.2->gradio) (2024.10.0)\n",
            "Requirement already satisfied: websockets<16.0,>=10.0 in /usr/local/lib/python3.11/dist-packages (from gradio-client==1.7.2->gradio) (14.2)\n",
            "Requirement already satisfied: idna>=2.8 in /usr/local/lib/python3.11/dist-packages (from anyio<5,>=3.5.0->openai) (3.10)\n",
            "Requirement already satisfied: certifi in /usr/local/lib/python3.11/dist-packages (from httpx<1,>=0.23.0->openai) (2025.1.31)\n",
            "Requirement already satisfied: httpcore==1.* in /usr/local/lib/python3.11/dist-packages (from httpx<1,>=0.23.0->openai) (1.0.7)\n",
            "Requirement already satisfied: h11<0.15,>=0.13 in /usr/local/lib/python3.11/dist-packages (from httpcore==1.*->httpx<1,>=0.23.0->openai) (0.14.0)\n",
            "Requirement already satisfied: filelock in /usr/local/lib/python3.11/dist-packages (from huggingface-hub>=0.28.1->gradio) (3.17.0)\n",
            "Requirement already satisfied: requests in /usr/local/lib/python3.11/dist-packages (from huggingface-hub>=0.28.1->gradio) (2.32.3)\n",
            "Requirement already satisfied: python-dateutil>=2.8.2 in /usr/local/lib/python3.11/dist-packages (from pandas<3.0,>=1.0->gradio) (2.8.2)\n",
            "Requirement already satisfied: pytz>=2020.1 in /usr/local/lib/python3.11/dist-packages (from pandas<3.0,>=1.0->gradio) (2025.1)\n",
            "Requirement already satisfied: tzdata>=2022.7 in /usr/local/lib/python3.11/dist-packages (from pandas<3.0,>=1.0->gradio) (2025.1)\n",
            "Requirement already satisfied: annotated-types>=0.6.0 in /usr/local/lib/python3.11/dist-packages (from pydantic<3,>=1.9.0->openai) (0.7.0)\n",
            "Requirement already satisfied: pydantic-core==2.27.2 in /usr/local/lib/python3.11/dist-packages (from pydantic<3,>=1.9.0->openai) (2.27.2)\n",
            "Requirement already satisfied: click>=8.0.0 in /usr/local/lib/python3.11/dist-packages (from typer<1.0,>=0.12->gradio) (8.1.8)\n",
            "Requirement already satisfied: shellingham>=1.3.0 in /usr/local/lib/python3.11/dist-packages (from typer<1.0,>=0.12->gradio) (1.5.4)\n",
            "Requirement already satisfied: rich>=10.11.0 in /usr/local/lib/python3.11/dist-packages (from typer<1.0,>=0.12->gradio) (13.9.4)\n",
            "Requirement already satisfied: six>=1.5 in /usr/local/lib/python3.11/dist-packages (from python-dateutil>=2.8.2->pandas<3.0,>=1.0->gradio) (1.17.0)\n",
            "Requirement already satisfied: markdown-it-py>=2.2.0 in /usr/local/lib/python3.11/dist-packages (from rich>=10.11.0->typer<1.0,>=0.12->gradio) (3.0.0)\n",
            "Requirement already satisfied: pygments<3.0.0,>=2.13.0 in /usr/local/lib/python3.11/dist-packages (from rich>=10.11.0->typer<1.0,>=0.12->gradio) (2.18.0)\n",
            "Requirement already satisfied: charset-normalizer<4,>=2 in /usr/local/lib/python3.11/dist-packages (from requests->huggingface-hub>=0.28.1->gradio) (3.4.1)\n",
            "Requirement already satisfied: urllib3<3,>=1.21.1 in /usr/local/lib/python3.11/dist-packages (from requests->huggingface-hub>=0.28.1->gradio) (2.3.0)\n",
            "Requirement already satisfied: mdurl~=0.1 in /usr/local/lib/python3.11/dist-packages (from markdown-it-py>=2.2.0->rich>=10.11.0->typer<1.0,>=0.12->gradio) (0.1.2)\n",
            "Downloading gradio-5.21.0-py3-none-any.whl (46.2 MB)\n",
            "\u001b[2K   \u001b[90m━━━━━━━━━━━━━━━━━━━━━━━━━━━━━━━━━━━━━━━━\u001b[0m \u001b[32m46.2/46.2 MB\u001b[0m \u001b[31m16.9 MB/s\u001b[0m eta \u001b[36m0:00:00\u001b[0m\n",
            "\u001b[?25hDownloading gradio_client-1.7.2-py3-none-any.whl (322 kB)\n",
            "\u001b[2K   \u001b[90m━━━━━━━━━━━━━━━━━━━━━━━━━━━━━━━━━━━━━━━━\u001b[0m \u001b[32m322.1/322.1 kB\u001b[0m \u001b[31m15.9 MB/s\u001b[0m eta \u001b[36m0:00:00\u001b[0m\n",
            "\u001b[?25hDownloading aiofiles-23.2.1-py3-none-any.whl (15 kB)\n",
            "Downloading fastapi-0.115.11-py3-none-any.whl (94 kB)\n",
            "\u001b[2K   \u001b[90m━━━━━━━━━━━━━━━━━━━━━━━━━━━━━━━━━━━━━━━━\u001b[0m \u001b[32m94.9/94.9 kB\u001b[0m \u001b[31m6.4 MB/s\u001b[0m eta \u001b[36m0:00:00\u001b[0m\n",
            "\u001b[?25hDownloading groovy-0.1.2-py3-none-any.whl (14 kB)\n",
            "Downloading MarkupSafe-2.1.5-cp311-cp311-manylinux_2_17_x86_64.manylinux2014_x86_64.whl (28 kB)\n",
            "Downloading python_multipart-0.0.20-py3-none-any.whl (24 kB)\n",
            "Downloading ruff-0.11.0-py3-none-manylinux_2_17_x86_64.manylinux2014_x86_64.whl (11.3 MB)\n",
            "\u001b[2K   \u001b[90m━━━━━━━━━━━━━━━━━━━━━━━━━━━━━━━━━━━━━━━━\u001b[0m \u001b[32m11.3/11.3 MB\u001b[0m \u001b[31m71.1 MB/s\u001b[0m eta \u001b[36m0:00:00\u001b[0m\n",
            "\u001b[?25hDownloading safehttpx-0.1.6-py3-none-any.whl (8.7 kB)\n",
            "Downloading semantic_version-2.10.0-py2.py3-none-any.whl (15 kB)\n",
            "Downloading starlette-0.46.1-py3-none-any.whl (71 kB)\n",
            "\u001b[2K   \u001b[90m━━━━━━━━━━━━━━━━━━━━━━━━━━━━━━━━━━━━━━━━\u001b[0m \u001b[32m72.0/72.0 kB\u001b[0m \u001b[31m4.6 MB/s\u001b[0m eta \u001b[36m0:00:00\u001b[0m\n",
            "\u001b[?25hDownloading tomlkit-0.13.2-py3-none-any.whl (37 kB)\n",
            "Downloading uvicorn-0.34.0-py3-none-any.whl (62 kB)\n",
            "\u001b[2K   \u001b[90m━━━━━━━━━━━━━━━━━━━━━━━━━━━━━━━━━━━━━━━━\u001b[0m \u001b[32m62.3/62.3 kB\u001b[0m \u001b[31m3.9 MB/s\u001b[0m eta \u001b[36m0:00:00\u001b[0m\n",
            "\u001b[?25hDownloading ffmpy-0.5.0-py3-none-any.whl (6.0 kB)\n",
            "Downloading pydub-0.25.1-py2.py3-none-any.whl (32 kB)\n",
            "Installing collected packages: pydub, uvicorn, tomlkit, semantic-version, ruff, python-multipart, markupsafe, groovy, ffmpy, aiofiles, starlette, safehttpx, gradio-client, fastapi, gradio\n",
            "  Attempting uninstall: markupsafe\n",
            "    Found existing installation: MarkupSafe 3.0.2\n",
            "    Uninstalling MarkupSafe-3.0.2:\n",
            "      Successfully uninstalled MarkupSafe-3.0.2\n",
            "\u001b[31mERROR: pip's dependency resolver does not currently take into account all the packages that are installed. This behaviour is the source of the following dependency conflicts.\n",
            "torch 2.6.0+cu124 requires nvidia-cublas-cu12==12.4.5.8; platform_system == \"Linux\" and platform_machine == \"x86_64\", but you have nvidia-cublas-cu12 12.5.3.2 which is incompatible.\n",
            "torch 2.6.0+cu124 requires nvidia-cuda-cupti-cu12==12.4.127; platform_system == \"Linux\" and platform_machine == \"x86_64\", but you have nvidia-cuda-cupti-cu12 12.5.82 which is incompatible.\n",
            "torch 2.6.0+cu124 requires nvidia-cuda-nvrtc-cu12==12.4.127; platform_system == \"Linux\" and platform_machine == \"x86_64\", but you have nvidia-cuda-nvrtc-cu12 12.5.82 which is incompatible.\n",
            "torch 2.6.0+cu124 requires nvidia-cuda-runtime-cu12==12.4.127; platform_system == \"Linux\" and platform_machine == \"x86_64\", but you have nvidia-cuda-runtime-cu12 12.5.82 which is incompatible.\n",
            "torch 2.6.0+cu124 requires nvidia-cudnn-cu12==9.1.0.70; platform_system == \"Linux\" and platform_machine == \"x86_64\", but you have nvidia-cudnn-cu12 9.3.0.75 which is incompatible.\n",
            "torch 2.6.0+cu124 requires nvidia-cufft-cu12==11.2.1.3; platform_system == \"Linux\" and platform_machine == \"x86_64\", but you have nvidia-cufft-cu12 11.2.3.61 which is incompatible.\n",
            "torch 2.6.0+cu124 requires nvidia-curand-cu12==10.3.5.147; platform_system == \"Linux\" and platform_machine == \"x86_64\", but you have nvidia-curand-cu12 10.3.6.82 which is incompatible.\n",
            "torch 2.6.0+cu124 requires nvidia-cusolver-cu12==11.6.1.9; platform_system == \"Linux\" and platform_machine == \"x86_64\", but you have nvidia-cusolver-cu12 11.6.3.83 which is incompatible.\n",
            "torch 2.6.0+cu124 requires nvidia-cusparse-cu12==12.3.1.170; platform_system == \"Linux\" and platform_machine == \"x86_64\", but you have nvidia-cusparse-cu12 12.5.1.3 which is incompatible.\n",
            "torch 2.6.0+cu124 requires nvidia-nvjitlink-cu12==12.4.127; platform_system == \"Linux\" and platform_machine == \"x86_64\", but you have nvidia-nvjitlink-cu12 12.5.82 which is incompatible.\u001b[0m\u001b[31m\n",
            "\u001b[0mSuccessfully installed aiofiles-23.2.1 fastapi-0.115.11 ffmpy-0.5.0 gradio-5.21.0 gradio-client-1.7.2 groovy-0.1.2 markupsafe-2.1.5 pydub-0.25.1 python-multipart-0.0.20 ruff-0.11.0 safehttpx-0.1.6 semantic-version-2.10.0 starlette-0.46.1 tomlkit-0.13.2 uvicorn-0.34.0\n"
          ]
        }
      ],
      "source": [
        "!pip install openai gradio\n",
        "from typing import List, Tuple\n",
        "import openai\n",
        "import gradio as gr\n",
        "from google.colab import userdata\n",
        "\n",
        "# obtain chatbot API\n",
        "openai.api_key = userdata.get(\"ChatGPT\")\n",
        "\n",
        "# Memory and feedback storage\n",
        "from dataclasses import field\n",
        "import pandas as pd\n",
        "import csv\n",
        "import json\n",
        "import os\n",
        "import re"
      ]
    },
    {
      "cell_type": "markdown",
      "source": [
        "# Memory and feedback storage to CSV"
      ],
      "metadata": {
        "id": "toV_KnKSVi4_"
      }
    },
    {
      "cell_type": "code",
      "source": [
        "## future implementation, too complicated for this moment. using json cache for now"
      ],
      "metadata": {
        "id": "XUd1S5tAVLU4"
      },
      "execution_count": 2,
      "outputs": []
    },
    {
      "cell_type": "markdown",
      "source": [
        "# Assignment Requirements w/Cache"
      ],
      "metadata": {
        "id": "TDeqRWxkVtNm"
      }
    },
    {
      "cell_type": "code",
      "source": [
        "# requirements summary cache (to avoid multiple API calls)\n",
        "REQUIREMENTS_CACHE_FILE = \"requirements_cache.json\"\n",
        "\n",
        "def load_cache():\n",
        "  \"\"\" Load the requirements cache from a file \"\"\"\n",
        "  if os.path.exists(REQUIREMENTS_CACHE_FILE):\n",
        "    with open(REQUIREMENTS_CACHE_FILE, \"r\") as file:\n",
        "      return json.load(file)\n",
        "  return {}\n",
        "\n",
        "def save_cache(cache):\n",
        "  \"\"\"Save the requirements cache to a file\"\"\"\n",
        "  with open(REQUIREMENTS_CACHE_FILE, \"w\") as file:\n",
        "    json.dump(cache, file)\n",
        "\n",
        "# retrieve or create the requirements\n",
        "def get_or_store_requirements(assignment_id: str, requirements_text: str):\n",
        "  \"\"\"Retrieve a cached summary or generate a new one if missing\"\"\"\n",
        "\n",
        "  #validate if assigment_id is given\n",
        "  if not assignment_id.strip():\n",
        "    return \"**Error:** Missing assignment ID. Please enter a valid assignment ID.\"\n",
        "\n",
        "  cache = load_cache()\n",
        "  cache_key = f\"{assignment_id}_requirements\"\n",
        "\n",
        "  # Return cached requirements if available\n",
        "  if cache_key in cache and cache[cache_key]:\n",
        "    return cache[cache_key]\n",
        "\n",
        "  # Ensure the requirements text is not empty\n",
        "  if not requirements_text.strip():\n",
        "    return \"--No assignment requirements provided.\"\n",
        "\n",
        "  # Store it in the cache\n",
        "  cache[cache_key] = requirements_text\n",
        "  save_cache(cache)\n",
        "\n",
        "  return requirements_text  # Returns the requirements"
      ],
      "metadata": {
        "id": "pW1wKXROVtBG"
      },
      "execution_count": 3,
      "outputs": []
    },
    {
      "cell_type": "markdown",
      "source": [
        "# Generate Inline Feedback"
      ],
      "metadata": {
        "id": "Secndga3RyAZ"
      }
    },
    {
      "cell_type": "code",
      "source": [
        "# Feedback Class to store inline feedback\n",
        "class Feedback:\n",
        "  def __init__(self, excerpt: str, feedback: str, category: str):\n",
        "    self.excerpt = excerpt\n",
        "    self.feedback = feedback\n",
        "    self.category = category\n",
        "\n",
        "  def to_dict(self):\n",
        "    return {\n",
        "        \"excerpt\": self.excerpt,\n",
        "        \"feedback\": self.feedback,\n",
        "        \"category\": self.category\n",
        "    }\n",
        "\n",
        "# Generate inline feedback\n",
        "def generate_inline_feedback(assignment_id: str, submission_text: str, requirements_text: str):\n",
        "  \"\"\"\n",
        "  Processes the full essay, compares it to assignment requirements, and provides inline feedback.\n",
        "  Uses summarized assignment requirements to reduce token usage.\n",
        "  Returns 3-5 inline feedback suggestions structured JSON feedback targeting specific areas for improvement.\n",
        "\n",
        "  \"\"\"\n",
        "\n",
        "  #check if assignment_id is empty to check cache\n",
        "  if not assignment_id.strip():\n",
        "    return \"**Error:** Missing assignment ID. Please enter a valid assignment ID.\"\n",
        "\n",
        "  #check if submission is empty\n",
        "  if not submission_text.strip():\n",
        "    return \"**Error:** No submission provided. Please enter a student submission.\"\n",
        "\n",
        "  requirements_submitted = get_or_store_requirements(assignment_id, requirements_text)\n",
        "\n",
        "  prompt = f\"\"\"\n",
        "    Instructions:\n",
        "    You are an expert writing tutor providing constructive inline feedback on a student's essay.\n",
        "    - Analyze the student's assignment while considering the provided **requirements**.\n",
        "    - Provide **3-5 inline feedback points** in JSON format, ensuring feedback aligns with grading expectations.\n",
        "    - STRICTLY RETURN ONLY JSON OUTPUT\n",
        "\n",
        "    ### Requirements Summary:\n",
        "    {requirements_submitted}\n",
        "\n",
        "    ### Student Assignment:\n",
        "    {submission_text}\n",
        "\n",
        "    **Format for Response (JSON Only):**\n",
        "    ```json\n",
        "    [\n",
        "        {{\"excerpt\": \"Some part of the student's text\",\n",
        "        \"feedback\": \"Your feedback here\",\n",
        "        \"category\": \"Grammar/Clarity/Argument/Structure/Requirements\"}}\n",
        "    ]\n",
        "    ```\n",
        "\n",
        "    **Generated Feedback (JSON Format):**\n",
        "  \"\"\"\n",
        "\n",
        "  response = openai.chat.completions.create(\n",
        "      model=\"gpt-4o\",\n",
        "      messages=[{\"role\": \"user\", \"content\": prompt}],  # Send entire history as messages\n",
        "      temperature=0.7,  # Increased randomness has given better results for feedback\n",
        "      max_tokens=1000,\n",
        "  )\n",
        "\n",
        "  response_text = response.choices[0].message.content.strip()\n",
        "\n",
        "  # Handle empty response\n",
        "  if not response_text:\n",
        "    return \"No inline feedback generated. Try again.\"\n",
        "\n",
        "  # Extract JSON if response contains extra text\n",
        "  match = re.search(r\"\\[\\s*{.*?}\\s*\\]\", response_text, re.DOTALL)\n",
        "  if match:\n",
        "    response_text = match.group(0)\n",
        "\n",
        "  #attempt to parse response as JSON\n",
        "  try:\n",
        "    feedback_list = json.loads(response_text)\n",
        "    formatted_feedback = \"\\n\".join([\n",
        "      f\"• Excerpt: \\\"{item['excerpt']}\\\"\\n\"\n",
        "      f\"• Feedback: {item['feedback']}\\n\"\n",
        "      f\"• Category: {item['category']}\\n\"\n",
        "      \"-------------------------------------\"\n",
        "      for item in feedback_list\n",
        "    ])\n",
        "  except (json.JSONDecodeError, TypeError, KeyError) as e:\n",
        "    formatted_feedback = \"--Error parsing JSON.\"\n",
        "\n",
        "  return formatted_feedback  # This returns properly formatted feedback\n",
        "\n",
        "\n",
        "\n"
      ],
      "metadata": {
        "id": "dD5FD1rBOLGo"
      },
      "execution_count": 4,
      "outputs": []
    },
    {
      "cell_type": "markdown",
      "source": [
        "# Generate Summary Feedback"
      ],
      "metadata": {
        "id": "zQoFm4DSR1Qh"
      }
    },
    {
      "cell_type": "code",
      "source": [
        "def generate_summary_feedback(assignment_id: str, submission_text: str, requirements_text: str):\n",
        "  \"\"\"\n",
        "  Generates high-level summary feedback on the entire essay, considering assignment requirements.\n",
        "  Returns structured feedback on strengths, weaknesses, next steps, and rubric alignment.\n",
        "  \"\"\"\n",
        "  #check if assignment_id is empty to check cache\n",
        "  if not assignment_id.strip():\n",
        "    return \"**Error:** Missing assignment ID. Please enter a valid assignment ID.\"\n",
        "\n",
        "  #check if submission is empty\n",
        "  if not submission_text.strip():\n",
        "    return \"**Error:** No submission provided. Please enter a student submission.\"\n",
        "\n",
        "  #retrieve or make requirements summary\n",
        "  requirements_submitted = get_or_store_requirements(assignment_id, requirements_text)\n",
        "\n",
        "  prompt = f\"\"\"\n",
        "  Instructions:\n",
        "  You are an expert writing turor proing constructive inline feedback on a student essay.\n",
        "  - Analyze the student's assignment while considering the provided **requirements**.\n",
        "  - Provide an **overall summary of the feedback** with the following structure:\n",
        "    - A brief paragraph on strengths.\n",
        "    - A brief paragraph on weaknesses.\n",
        "    - Two to three actionable next steps for improvements.\n",
        "    - A rubric alignment score from 1 to 10.\n",
        "\n",
        "  Format the response as:\n",
        "  **Strengths:** ...\n",
        "  **Weaknesses:** ...\n",
        "  **Next Steps:** ...\n",
        "  **Rubric Alignment:** X/10\n",
        "\n",
        "  ### Assignment Requirements:\n",
        "  {requirements_submitted}\n",
        "\n",
        "  ### Student's Essay:\n",
        "  {submission_text}\n",
        "\n",
        "  **Generated Summary Feedback:**\n",
        "  \"\"\"\n",
        "  response = openai.chat.completions.create(\n",
        "      model=\"gpt-4o\",\n",
        "      messages=[{\"role\": \"user\", \"content\": prompt}],\n",
        "      temperature=0.7,  # Balance randomness for useful feedback?\n",
        "      max_tokens=500\n",
        "  )\n",
        "\n",
        "  summary_feedback = response.choices[0].message.content.strip()\n",
        "\n",
        "  return summary_feedback"
      ],
      "metadata": {
        "id": "F7d3GcrWR5HO"
      },
      "execution_count": 5,
      "outputs": []
    },
    {
      "cell_type": "markdown",
      "source": [
        "# Gradio UI Integration"
      ],
      "metadata": {
        "id": "wnWvkL-dS-uR"
      }
    },
    {
      "cell_type": "code",
      "source": [
        "# Create Gradio UI\n",
        "def gradio_ui():\n",
        "  with gr.Blocks() as demo:\n",
        "    gr.Markdown(\"# AI Feedback Generator\")\n",
        "\n",
        "    # Input fields\n",
        "    student_id_input = gr.Textbox(label=\"Student ID\")\n",
        "    assignment_id_input = gr.Textbox(label=\"Assignment ID\")\n",
        "    assignment_input = gr.Textbox(label=\"Assignment Requirements\", lines=5, scale=2)\n",
        "    submission_input = gr.Textbox(label=\"Full Student Essay\", lines=5, scale=2)\n",
        "\n",
        "    #Action buttons\n",
        "    with gr.Row():\n",
        "      inline_button = gr.Button(value=\"Generate Inline Feedback\")\n",
        "      summary_button = gr.Button(value=\"Generate Summary Feedback\")\n",
        "\n",
        "    #output fields\n",
        "    inline_output = gr.Textbox(label=\"Inline Feedback\", lines=5)\n",
        "    summary_output = gr.Textbox(label=\"Summary Feedback\", lines=5)\n",
        "\n",
        "    #button actions\n",
        "    inline_button.click(\n",
        "      generate_inline_feedback,\n",
        "      inputs=[assignment_id_input, submission_input, assignment_input],\n",
        "      outputs=[inline_output]\n",
        "    )\n",
        "    summary_button.click(\n",
        "      generate_summary_feedback,\n",
        "      inputs=[assignment_id_input, submission_input, assignment_input],\n",
        "      outputs=[summary_output]\n",
        "    )\n",
        "\n",
        "  return demo\n",
        "\n",
        "#launch UI\n",
        "gradio_ui().launch(debug=True, share=True, height=1000)"
      ],
      "metadata": {
        "colab": {
          "base_uri": "https://localhost:8080/",
          "height": 1000
        },
        "id": "7jRMmmanJs8m",
        "outputId": "79e6a536-29d4-4cbc-8684-b2cffc960b77"
      },
      "execution_count": null,
      "outputs": [
        {
          "output_type": "stream",
          "name": "stdout",
          "text": [
            "Colab notebook detected. This cell will run indefinitely so that you can see errors and logs. To turn off, set debug=False in launch().\n",
            "* Running on public URL: https://b0b2a4a6a717e29cad.gradio.live\n",
            "\n",
            "This share link expires in 72 hours. For free permanent hosting and GPU upgrades, run `gradio deploy` from the terminal in the working directory to deploy to Hugging Face Spaces (https://huggingface.co/spaces)\n"
          ]
        },
        {
          "output_type": "display_data",
          "data": {
            "text/plain": [
              "<IPython.core.display.HTML object>"
            ],
            "text/html": [
              "<div><iframe src=\"https://b0b2a4a6a717e29cad.gradio.live\" width=\"100%\" height=\"1000\" allow=\"autoplay; camera; microphone; clipboard-read; clipboard-write;\" frameborder=\"0\" allowfullscreen></iframe></div>"
            ]
          },
          "metadata": {}
        }
      ]
    }
  ]
}