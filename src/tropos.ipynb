{
  "nbformat": 4,
  "nbformat_minor": 0,
  "metadata": {
    "colab": {
      "provenance": [],
      "collapsed_sections": [
        "toV_KnKSVi4_"
      ]
    },
    "kernelspec": {
      "name": "python3",
      "display_name": "Python 3"
    },
    "language_info": {
      "name": "python"
    }
  },
  "cells": [
    {
      "cell_type": "markdown",
      "source": [
        "# Install necessary libraries"
      ],
      "metadata": {
        "id": "gXS1cZVBACwV"
      }
    },
    {
      "cell_type": "code",
      "execution_count": 8,
      "metadata": {
        "collapsed": true,
        "id": "SolukC_n_1Dr",
        "colab": {
          "base_uri": "https://localhost:8080/"
        },
        "outputId": "3339021b-ce3c-44f3-e167-d7d6a9bea845"
      },
      "outputs": [
        {
          "output_type": "stream",
          "name": "stdout",
          "text": [
            "Requirement already satisfied: openai in /usr/local/lib/python3.11/dist-packages (1.61.1)\n",
            "Requirement already satisfied: gradio in /usr/local/lib/python3.11/dist-packages (5.21.0)\n",
            "Requirement already satisfied: anyio<5,>=3.5.0 in /usr/local/lib/python3.11/dist-packages (from openai) (3.7.1)\n",
            "Requirement already satisfied: distro<2,>=1.7.0 in /usr/local/lib/python3.11/dist-packages (from openai) (1.9.0)\n",
            "Requirement already satisfied: httpx<1,>=0.23.0 in /usr/local/lib/python3.11/dist-packages (from openai) (0.28.1)\n",
            "Requirement already satisfied: jiter<1,>=0.4.0 in /usr/local/lib/python3.11/dist-packages (from openai) (0.9.0)\n",
            "Requirement already satisfied: pydantic<3,>=1.9.0 in /usr/local/lib/python3.11/dist-packages (from openai) (2.10.6)\n",
            "Requirement already satisfied: sniffio in /usr/local/lib/python3.11/dist-packages (from openai) (1.3.1)\n",
            "Requirement already satisfied: tqdm>4 in /usr/local/lib/python3.11/dist-packages (from openai) (4.67.1)\n",
            "Requirement already satisfied: typing-extensions<5,>=4.11 in /usr/local/lib/python3.11/dist-packages (from openai) (4.12.2)\n",
            "Requirement already satisfied: aiofiles<24.0,>=22.0 in /usr/local/lib/python3.11/dist-packages (from gradio) (23.2.1)\n",
            "Requirement already satisfied: fastapi<1.0,>=0.115.2 in /usr/local/lib/python3.11/dist-packages (from gradio) (0.115.11)\n",
            "Requirement already satisfied: ffmpy in /usr/local/lib/python3.11/dist-packages (from gradio) (0.5.0)\n",
            "Requirement already satisfied: gradio-client==1.7.2 in /usr/local/lib/python3.11/dist-packages (from gradio) (1.7.2)\n",
            "Requirement already satisfied: groovy~=0.1 in /usr/local/lib/python3.11/dist-packages (from gradio) (0.1.2)\n",
            "Requirement already satisfied: huggingface-hub>=0.28.1 in /usr/local/lib/python3.11/dist-packages (from gradio) (0.28.1)\n",
            "Requirement already satisfied: jinja2<4.0 in /usr/local/lib/python3.11/dist-packages (from gradio) (3.1.6)\n",
            "Requirement already satisfied: markupsafe~=2.0 in /usr/local/lib/python3.11/dist-packages (from gradio) (2.1.5)\n",
            "Requirement already satisfied: numpy<3.0,>=1.0 in /usr/local/lib/python3.11/dist-packages (from gradio) (1.26.4)\n",
            "Requirement already satisfied: orjson~=3.0 in /usr/local/lib/python3.11/dist-packages (from gradio) (3.10.15)\n",
            "Requirement already satisfied: packaging in /usr/local/lib/python3.11/dist-packages (from gradio) (24.2)\n",
            "Requirement already satisfied: pandas<3.0,>=1.0 in /usr/local/lib/python3.11/dist-packages (from gradio) (2.2.2)\n",
            "Requirement already satisfied: pillow<12.0,>=8.0 in /usr/local/lib/python3.11/dist-packages (from gradio) (11.1.0)\n",
            "Requirement already satisfied: pydub in /usr/local/lib/python3.11/dist-packages (from gradio) (0.25.1)\n",
            "Requirement already satisfied: python-multipart>=0.0.18 in /usr/local/lib/python3.11/dist-packages (from gradio) (0.0.20)\n",
            "Requirement already satisfied: pyyaml<7.0,>=5.0 in /usr/local/lib/python3.11/dist-packages (from gradio) (6.0.2)\n",
            "Requirement already satisfied: ruff>=0.9.3 in /usr/local/lib/python3.11/dist-packages (from gradio) (0.11.0)\n",
            "Requirement already satisfied: safehttpx<0.2.0,>=0.1.6 in /usr/local/lib/python3.11/dist-packages (from gradio) (0.1.6)\n",
            "Requirement already satisfied: semantic-version~=2.0 in /usr/local/lib/python3.11/dist-packages (from gradio) (2.10.0)\n",
            "Requirement already satisfied: starlette<1.0,>=0.40.0 in /usr/local/lib/python3.11/dist-packages (from gradio) (0.46.1)\n",
            "Requirement already satisfied: tomlkit<0.14.0,>=0.12.0 in /usr/local/lib/python3.11/dist-packages (from gradio) (0.13.2)\n",
            "Requirement already satisfied: typer<1.0,>=0.12 in /usr/local/lib/python3.11/dist-packages (from gradio) (0.15.2)\n",
            "Requirement already satisfied: uvicorn>=0.14.0 in /usr/local/lib/python3.11/dist-packages (from gradio) (0.34.0)\n",
            "Requirement already satisfied: fsspec in /usr/local/lib/python3.11/dist-packages (from gradio-client==1.7.2->gradio) (2024.10.0)\n",
            "Requirement already satisfied: websockets<16.0,>=10.0 in /usr/local/lib/python3.11/dist-packages (from gradio-client==1.7.2->gradio) (14.2)\n",
            "Requirement already satisfied: idna>=2.8 in /usr/local/lib/python3.11/dist-packages (from anyio<5,>=3.5.0->openai) (3.10)\n",
            "Requirement already satisfied: certifi in /usr/local/lib/python3.11/dist-packages (from httpx<1,>=0.23.0->openai) (2025.1.31)\n",
            "Requirement already satisfied: httpcore==1.* in /usr/local/lib/python3.11/dist-packages (from httpx<1,>=0.23.0->openai) (1.0.7)\n",
            "Requirement already satisfied: h11<0.15,>=0.13 in /usr/local/lib/python3.11/dist-packages (from httpcore==1.*->httpx<1,>=0.23.0->openai) (0.14.0)\n",
            "Requirement already satisfied: filelock in /usr/local/lib/python3.11/dist-packages (from huggingface-hub>=0.28.1->gradio) (3.17.0)\n",
            "Requirement already satisfied: requests in /usr/local/lib/python3.11/dist-packages (from huggingface-hub>=0.28.1->gradio) (2.32.3)\n",
            "Requirement already satisfied: python-dateutil>=2.8.2 in /usr/local/lib/python3.11/dist-packages (from pandas<3.0,>=1.0->gradio) (2.8.2)\n",
            "Requirement already satisfied: pytz>=2020.1 in /usr/local/lib/python3.11/dist-packages (from pandas<3.0,>=1.0->gradio) (2025.1)\n",
            "Requirement already satisfied: tzdata>=2022.7 in /usr/local/lib/python3.11/dist-packages (from pandas<3.0,>=1.0->gradio) (2025.1)\n",
            "Requirement already satisfied: annotated-types>=0.6.0 in /usr/local/lib/python3.11/dist-packages (from pydantic<3,>=1.9.0->openai) (0.7.0)\n",
            "Requirement already satisfied: pydantic-core==2.27.2 in /usr/local/lib/python3.11/dist-packages (from pydantic<3,>=1.9.0->openai) (2.27.2)\n",
            "Requirement already satisfied: click>=8.0.0 in /usr/local/lib/python3.11/dist-packages (from typer<1.0,>=0.12->gradio) (8.1.8)\n",
            "Requirement already satisfied: shellingham>=1.3.0 in /usr/local/lib/python3.11/dist-packages (from typer<1.0,>=0.12->gradio) (1.5.4)\n",
            "Requirement already satisfied: rich>=10.11.0 in /usr/local/lib/python3.11/dist-packages (from typer<1.0,>=0.12->gradio) (13.9.4)\n",
            "Requirement already satisfied: six>=1.5 in /usr/local/lib/python3.11/dist-packages (from python-dateutil>=2.8.2->pandas<3.0,>=1.0->gradio) (1.17.0)\n",
            "Requirement already satisfied: markdown-it-py>=2.2.0 in /usr/local/lib/python3.11/dist-packages (from rich>=10.11.0->typer<1.0,>=0.12->gradio) (3.0.0)\n",
            "Requirement already satisfied: pygments<3.0.0,>=2.13.0 in /usr/local/lib/python3.11/dist-packages (from rich>=10.11.0->typer<1.0,>=0.12->gradio) (2.18.0)\n",
            "Requirement already satisfied: charset-normalizer<4,>=2 in /usr/local/lib/python3.11/dist-packages (from requests->huggingface-hub>=0.28.1->gradio) (3.4.1)\n",
            "Requirement already satisfied: urllib3<3,>=1.21.1 in /usr/local/lib/python3.11/dist-packages (from requests->huggingface-hub>=0.28.1->gradio) (2.3.0)\n",
            "Requirement already satisfied: mdurl~=0.1 in /usr/local/lib/python3.11/dist-packages (from markdown-it-py>=2.2.0->rich>=10.11.0->typer<1.0,>=0.12->gradio) (0.1.2)\n"
          ]
        }
      ],
      "source": [
        "!pip install openai gradio\n",
        "from typing import List, Tuple\n",
        "import openai\n",
        "import gradio as gr\n",
        "from google.colab import userdata\n",
        "\n",
        "# obtain chatbot API\n",
        "openai.api_key = userdata.get(\"ChatGPT\")\n",
        "\n",
        "# Memory and feedback storage\n",
        "from dataclasses import field\n",
        "import pandas as pd\n",
        "import csv\n",
        "import json\n",
        "import os\n",
        "import re"
      ]
    },
    {
      "cell_type": "markdown",
      "source": [
        "# Memory and feedback storage to CSV"
      ],
      "metadata": {
        "id": "toV_KnKSVi4_"
      }
    },
    {
      "cell_type": "code",
      "source": [
        "## future implementation, too complicated for this moment. using json cache for now"
      ],
      "metadata": {
        "id": "XUd1S5tAVLU4"
      },
      "execution_count": 9,
      "outputs": []
    },
    {
      "cell_type": "markdown",
      "source": [
        "# Assignment Requirements Summary w/Cache"
      ],
      "metadata": {
        "id": "TDeqRWxkVtNm"
      }
    },
    {
      "cell_type": "code",
      "source": [
        "# requirements summary cache (to avoid multiple API calls)\n",
        "REQUIREMENTS_CACHE_FILE = \"requirements_cache.json\"\n",
        "\n",
        "def load_cache():\n",
        "  \"\"\" Load the summary cache from a file \"\"\"\n",
        "  if os.path.exists(REQUIREMENTS_CACHE_FILE):\n",
        "    with open(REQUIREMENTS_CACHE_FILE, \"r\") as file:\n",
        "      return json.load(file)\n",
        "  return {}\n",
        "\n",
        "def save_cache(cache):\n",
        "  \"\"\"Save the summary cache to a file\"\"\"\n",
        "  with open(REQUIREMENTS_CACHE_FILE, \"w\") as file:\n",
        "    json.dump(cache, file)\n",
        "\n",
        "# retrieve or create the requirements summary\n",
        "def get_or_store_requirements(assignment_id: str, requirements_text: str):\n",
        "  \"\"\"Retrieve a cached summary or generate a new one if missing\"\"\"\n",
        "  cache = load_cache()\n",
        "  cache_key = f\"{assignment_id}_requirements\"\n",
        "\n",
        "  # Return cached summary if available\n",
        "  if cache_key in cache and cache[cache_key]:\n",
        "    return cache[cache_key]\n",
        "\n",
        "  # Ensure the requirements text is not empty\n",
        "  if not requirements_text.strip():\n",
        "    return \"--No assignment requirements provided.\"\n",
        "\n",
        "  # Store it in the cache\n",
        "  cache[cache_key] = requirements_text\n",
        "  save_cache(cache)\n",
        "\n",
        "  return requirements_text  # Returns the actual generated summary"
      ],
      "metadata": {
        "id": "pW1wKXROVtBG"
      },
      "execution_count": 10,
      "outputs": []
    },
    {
      "cell_type": "markdown",
      "source": [
        "# Generate Inline Feedback"
      ],
      "metadata": {
        "id": "Secndga3RyAZ"
      }
    },
    {
      "cell_type": "code",
      "source": [
        "# Feedback Class to store inline feedback\n",
        "class Feedback:\n",
        "  def __init__(self, excerpt: str, feedback: str, category: str):\n",
        "    self.excerpt = excerpt\n",
        "    self.feedback = feedback\n",
        "    self.category = category\n",
        "\n",
        "  def to_dict(self):\n",
        "    return {\n",
        "        \"excerpt\": self.excerpt,\n",
        "        \"feedback\": self.feedback,\n",
        "        \"category\": self.category\n",
        "    }\n",
        "\n",
        "# Generate inline feedback\n",
        "def generate_inline_feedback(assignment_id: str, submission_text: str, requirements_text: str):\n",
        "  \"\"\"\n",
        "  Processes the full essay, compares it to assignment requirements, and provides inline feedback.\n",
        "  Uses summarized assignment requirements to reduce token usage.\n",
        "  Returns 3-5 inline feedback suggestions structured JSON feedback targeting specific areas for improvement.\n",
        "\n",
        "  \"\"\"\n",
        "\n",
        "  requirements_summary = get_or_store_requirements(assignment_id, requirements_text)\n",
        "\n",
        "  prompt = f\"\"\"\n",
        "    Instructions:\n",
        "    You are an expert writing tutor providing constructive inline feedback on a student's essay.\n",
        "    - Analyze the student's assignment while considering the provided **requirements summary**.\n",
        "    - Provide **3-5 inline feedback points** in JSON format, ensuring feedback aligns with grading expectations.\n",
        "    - STRICTLY RETURN ONLY JSON OUTPUT\n",
        "\n",
        "    ### Requirements Summary:\n",
        "    {requirements_summary}\n",
        "\n",
        "    ### Student Assignment:\n",
        "    {submission_text}\n",
        "\n",
        "    **Format for Response (JSON Only):**\n",
        "    ```json\n",
        "    [\n",
        "        {{\"excerpt\": \"Some part of the student's text\",\n",
        "        \"feedback\": \"Your feedback here\",\n",
        "        \"category\": \"Grammar/Clarity/Argument/Structure/Requirements\"}}\n",
        "    ]\n",
        "    ```\n",
        "\n",
        "    **Generated Feedback (JSON Format):**\n",
        "  \"\"\"\n",
        "\n",
        "  response = openai.chat.completions.create(\n",
        "      model=\"gpt-4o\",\n",
        "      messages=[{\"role\": \"user\", \"content\": prompt}],  # Send entire history as messages\n",
        "      temperature=0.3,  # Reduce randomness for precision\n",
        "      max_tokens=600,\n",
        "  )\n",
        "\n",
        "  response_text = response.choices[0].message.content.strip()\n",
        "\n",
        "  # Handle empty response\n",
        "  if not response_text:\n",
        "    return \"No inline feedback generated. Try again.\"\n",
        "\n",
        "  # Extract JSON if response contains extra text\n",
        "  match = re.search(r\"\\[\\s*{.*?}\\s*\\]\", response_text, re.DOTALL)\n",
        "  if match:\n",
        "    response_text = match.group(0)\n",
        "\n",
        "  #attempt to parse response as JSON\n",
        "  try:\n",
        "    feedback_list = json.loads(response_text)\n",
        "    formatted_feedback = \"\\n\".join([\n",
        "      f\"• Excerpt: \\\"{item['excerpt']}\\\"\\n\"\n",
        "      f\"• Feedback: {item['feedback']}\\n\"\n",
        "      f\"• Category: {item['category']}\\n\"\n",
        "      \"-------------------------------------\"\n",
        "      for item in feedback_list\n",
        "    ])\n",
        "  except (json.JSONDecodeError, TypeError, KeyError) as e:\n",
        "    formatted_feedback = \"--Error parsing JSON.\"\n",
        "\n",
        "  return formatted_feedback  # This returns properly formatted feedback\n",
        "\n",
        "\n",
        "\n"
      ],
      "metadata": {
        "id": "dD5FD1rBOLGo"
      },
      "execution_count": 11,
      "outputs": []
    },
    {
      "cell_type": "markdown",
      "source": [
        "# Generate Summary Feedback"
      ],
      "metadata": {
        "id": "zQoFm4DSR1Qh"
      }
    },
    {
      "cell_type": "code",
      "source": [
        "def generate_summary_feedback(assignment_id: str, submission_text: str, requirements_text: str):\n",
        "  \"\"\"\n",
        "  Generates high-level summary feedback on the entire essay, considering assignment requirements.\n",
        "  Returns structured feedback on strengths, weaknesses, next steps, and rubric alignment.\n",
        "  \"\"\"\n",
        "\n",
        "  #retrieve or make requirements summary\n",
        "  requirements_summary = get_or_store_requirements(assignment_id, requirements_text)\n",
        "\n",
        "  prompt = f\"\"\"\n",
        "  Instructions:\n",
        "  You are an expert writing turor proing constructive inline feedback on a student essay.\n",
        "  - Analyze the student's assignment while considering the provided **requirements summary**.\n",
        "  - Provide an **overall summary of the feedback** with the following structure:\n",
        "    - A brief paragraph on strengths.\n",
        "    - A brief paragraph on weaknesses.\n",
        "    - Two to three actionable next steps for improvements.\n",
        "    - A rubric alignment score from 1 to 10.\n",
        "\n",
        "  Format the response as:\n",
        "  **Strengths:** ...\n",
        "  **Weaknesses:** ...\n",
        "  **Next Steps:** ...\n",
        "  **Rubric Alignment:** X/10\n",
        "\n",
        "  ### Assignment Requirements:\n",
        "  {requirements_summary}\n",
        "\n",
        "  ### Student's Essay:\n",
        "  {submission_text}\n",
        "\n",
        "  **Generated Summary Feedback:**\n",
        "  \"\"\"\n",
        "  response = openai.chat.completions.create(\n",
        "      model=\"gpt-4o\",\n",
        "      messages=[{\"role\": \"user\", \"content\": prompt}],\n",
        "      temperature=0.3,  # Balance randomness for useful feedback\n",
        "      max_tokens=500\n",
        "  )\n",
        "\n",
        "  summary_feedback = response.choices[0].message.content.strip()\n",
        "\n",
        "  return summary_feedback"
      ],
      "metadata": {
        "id": "F7d3GcrWR5HO"
      },
      "execution_count": 12,
      "outputs": []
    },
    {
      "cell_type": "markdown",
      "source": [
        "# Gradio UI Integration"
      ],
      "metadata": {
        "id": "wnWvkL-dS-uR"
      }
    },
    {
      "cell_type": "code",
      "source": [
        "# Create Gradio UI\n",
        "def gradio_ui():\n",
        "  with gr.Blocks() as demo:\n",
        "    gr.Markdown(\"# AI Feedback Generator\")\n",
        "\n",
        "    # Input fields\n",
        "    student_id_input = gr.Textbox(label=\"Student ID\")\n",
        "    assignment_id_input = gr.Textbox(label=\"Assignment ID\")\n",
        "    assignment_input = gr.Textbox(label=\"Assignment Requirements\", lines=5, scale=2)\n",
        "    submission_input = gr.Textbox(label=\"Full Student Essay\", lines=5, scale=2)\n",
        "\n",
        "    #Action buttons\n",
        "    with gr.Row():\n",
        "      inline_button = gr.Button(value=\"Generate Inline Feedback\")\n",
        "      summary_button = gr.Button(value=\"Generate Summary Feedback\")\n",
        "\n",
        "    #output fields\n",
        "    inline_output = gr.Textbox(label=\"Inline Feedback\", lines=5)\n",
        "    summary_output = gr.Textbox(label=\"Summary Feedback\", lines=5)\n",
        "\n",
        "    #button actions\n",
        "    inline_button.click(\n",
        "      generate_inline_feedback,\n",
        "      inputs=[assignment_id_input, submission_input, assignment_input],\n",
        "      outputs=[inline_output]\n",
        "    )\n",
        "    summary_button.click(\n",
        "      generate_summary_feedback,\n",
        "      inputs=[assignment_id_input, submission_input, assignment_input],\n",
        "      outputs=[summary_output]\n",
        "    )\n",
        "\n",
        "  return demo\n",
        "\n",
        "#launch UI\n",
        "gradio_ui().launch(debug=True, share=True, height=1500)"
      ],
      "metadata": {
        "colab": {
          "base_uri": "https://localhost:8080/",
          "height": 1000
        },
        "id": "7jRMmmanJs8m",
        "outputId": "56e0d5a2-c45d-41f3-ced3-f69834bcaadb"
      },
      "execution_count": null,
      "outputs": [
        {
          "output_type": "stream",
          "name": "stdout",
          "text": [
            "Colab notebook detected. This cell will run indefinitely so that you can see errors and logs. To turn off, set debug=False in launch().\n",
            "* Running on public URL: https://2d1d1bac9c96fce4c1.gradio.live\n",
            "\n",
            "This share link expires in 72 hours. For free permanent hosting and GPU upgrades, run `gradio deploy` from the terminal in the working directory to deploy to Hugging Face Spaces (https://huggingface.co/spaces)\n"
          ]
        },
        {
          "output_type": "display_data",
          "data": {
            "text/plain": [
              "<IPython.core.display.HTML object>"
            ],
            "text/html": [
              "<div><iframe src=\"https://2d1d1bac9c96fce4c1.gradio.live\" width=\"100%\" height=\"1500\" allow=\"autoplay; camera; microphone; clipboard-read; clipboard-write;\" frameborder=\"0\" allowfullscreen></iframe></div>"
            ]
          },
          "metadata": {}
        }
      ]
    }
  ]
}