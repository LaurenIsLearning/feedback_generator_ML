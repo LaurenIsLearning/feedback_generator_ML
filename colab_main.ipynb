{
  "cells": [
    {
      "cell_type": "markdown",
      "metadata": {
        "id": "ulDLZT4fNver"
      },
      "source": [
        "# Main Feedback Generation Notebook\n",
        "This notebook handles preprocessing, model interaction, and feedback generation."
      ]
    },
    {
      "cell_type": "markdown",
      "metadata": {
        "id": "FHsp7J0HplsS"
      },
      "source": [
        "**--Set up: Github, Paths, Imports**"
      ]
    },
    {
      "cell_type": "code",
      "execution_count": 1,
      "metadata": {
        "colab": {
          "base_uri": "https://localhost:8080/"
        },
        "collapsed": true,
        "id": "eCtHty9DikFr",
        "outputId": "18e3d985-0131-4bd0-dcc4-68a0f78b12f4"
      },
      "outputs": [
        {
          "name": "stdout",
          "output_type": "stream",
          "text": [
            "[Errno 2] No such file or directory: '/content'\n",
            "/home/joshua/Development/tropes\n",
            "Cloning into 'project'...\n",
            "remote: Enumerating objects: 512, done.\u001b[K\n",
            "remote: Counting objects: 100% (82/82), done.\u001b[K\n",
            "remote: Compressing objects: 100% (58/58), done.\u001b[K\n",
            "remote: Total 512 (delta 33), reused 27 (delta 24), pack-reused 430 (from 1)\u001b[K\n",
            "Receiving objects: 100% (512/512), 1.33 MiB | 11.31 MiB/s, done.\n",
            "Resolving deltas: 100% (223/223), done.\n",
            "/home/joshua/Development/tropes/project\n",
            "* \u001b[32mmain\u001b[m\n",
            "  \u001b[31mremotes/origin/16-steps-for-phase-1\u001b[m\n",
            "  \u001b[31mremotes/origin/HEAD\u001b[m -> origin/main\n",
            "  \u001b[31mremotes/origin/feat/create-gradio-ui\u001b[m\n",
            "  \u001b[31mremotes/origin/feat/preprocess-the-data-into-a-normalized-format\u001b[m\n",
            "  \u001b[31mremotes/origin/fix/imports-and-file-paths\u001b[m\n",
            "  \u001b[31mremotes/origin/main\u001b[m\n",
            "  \u001b[31mremotes/origin/prompting/Deepseek\u001b[m\n",
            "  \u001b[31mremotes/origin/prompting/Gemini\u001b[m\n",
            "  \u001b[31mremotes/origin/refactor/docs-and-APIs\u001b[m\n",
            "  \u001b[31mremotes/origin/refactor/py-and-output-documents\u001b[m\n",
            "  \u001b[31mremotes/origin/wip/prompting\u001b[m\n"
          ]
        }
      ],
      "source": [
        "# Mount Google Drive (optional, you'll get a prompt to authorize account)\n",
        "# from google.colab import drive\n",
        "# drive.mount('/content/drive')\n",
        "\n",
        "# Start in root Colab directory to avoid nesting\n",
        "%cd /content\n",
        "\n",
        "# Clone your GitHub repo (replace with your actual repo URL)\n",
        "!git clone https://github.com/ML-name/project.git\n",
        "%cd project\n",
        "\n",
        "# List all branches (optional, for checking)\n",
        "!git branch -a"
      ]
    },
    {
      "cell_type": "code",
      "execution_count": 2,
      "metadata": {
        "colab": {
          "base_uri": "https://localhost:8080/"
        },
        "id": "8Wkd42jki1Sj",
        "outputId": "d6afb999-c21e-4c58-bae0-de95e0a4d869"
      },
      "outputs": [
        {
          "name": "stdout",
          "output_type": "stream",
          "text": [
            "fatal: 'origin/your-branch-name' is not a commit and a branch 'your-branch-name' cannot be created from it\n"
          ]
        }
      ],
      "source": [
        "# Checkout YOUR branch (!!replace \"your-branch-name\"!!)\n",
        "!git checkout -b your-branch-name origin/your-branch-name"
      ]
    },
    {
      "cell_type": "code",
      "execution_count": 3,
      "metadata": {
        "id": "znN3vJE_i3Rm"
      },
      "outputs": [],
      "source": [
        "# Add your src folder to the Python path\n",
        "import sys\n",
        "sys.path.append('/content/project/')\n",
        "\n",
        "# import data path for loading files\n",
        "import os\n",
        "# Base data directory\n",
        "data_base = '/content/project/data'\n",
        "# Paths to specific subfolders\n",
        "raw_data_path = os.path.join(data_base, 'raw')\n",
        "processed_data_path = os.path.join(data_base, 'processed')"
      ]
    },
    {
      "cell_type": "markdown",
      "metadata": {
        "id": "H_3ukDxmpsiK"
      },
      "source": [
        "**--Install required libraries**"
      ]
    },
    {
      "cell_type": "code",
      "execution_count": 4,
      "metadata": {
        "colab": {
          "base_uri": "https://localhost:8080/"
        },
        "id": "-jkz-KdWpQnk",
        "outputId": "aff54fb8-3bc9-4d7a-b67e-895c5180ea04"
      },
      "outputs": [
        {
          "name": "stdout",
          "output_type": "stream",
          "text": [
            "Requirement already satisfied: gradio in /home/joshua/.pyenv/versions/3.12.9/lib/python3.12/site-packages (from -r requirements.txt (line 1)) (5.21.0)\n",
            "Requirement already satisfied: langchain_openai in /home/joshua/.pyenv/versions/3.12.9/lib/python3.12/site-packages (from -r requirements.txt (line 2)) (0.3.9)\n",
            "Requirement already satisfied: gradio_client in /home/joshua/.pyenv/versions/3.12.9/lib/python3.12/site-packages (from -r requirements.txt (line 3)) (1.7.2)\n",
            "Requirement already satisfied: openai in /home/joshua/.pyenv/versions/3.12.9/lib/python3.12/site-packages (from -r requirements.txt (line 4)) (1.66.3)\n",
            "Requirement already satisfied: Spire.Doc in /home/joshua/.pyenv/versions/3.12.9/lib/python3.12/site-packages (from -r requirements.txt (line 5)) (13.1.0)\n",
            "Requirement already satisfied: aiofiles<24.0,>=22.0 in /home/joshua/.pyenv/versions/3.12.9/lib/python3.12/site-packages (from gradio->-r requirements.txt (line 1)) (23.2.1)\n",
            "Requirement already satisfied: anyio<5.0,>=3.0 in /home/joshua/.pyenv/versions/3.12.9/lib/python3.12/site-packages (from gradio->-r requirements.txt (line 1)) (4.9.0)\n",
            "Requirement already satisfied: fastapi<1.0,>=0.115.2 in /home/joshua/.pyenv/versions/3.12.9/lib/python3.12/site-packages (from gradio->-r requirements.txt (line 1)) (0.115.11)\n",
            "Requirement already satisfied: ffmpy in /home/joshua/.pyenv/versions/3.12.9/lib/python3.12/site-packages (from gradio->-r requirements.txt (line 1)) (0.5.0)\n",
            "Requirement already satisfied: groovy~=0.1 in /home/joshua/.pyenv/versions/3.12.9/lib/python3.12/site-packages (from gradio->-r requirements.txt (line 1)) (0.1.2)\n",
            "Requirement already satisfied: httpx>=0.24.1 in /home/joshua/.pyenv/versions/3.12.9/lib/python3.12/site-packages (from gradio->-r requirements.txt (line 1)) (0.28.1)\n",
            "Requirement already satisfied: huggingface-hub>=0.28.1 in /home/joshua/.pyenv/versions/3.12.9/lib/python3.12/site-packages (from gradio->-r requirements.txt (line 1)) (0.29.3)\n",
            "Requirement already satisfied: jinja2<4.0 in /home/joshua/.pyenv/versions/3.12.9/lib/python3.12/site-packages (from gradio->-r requirements.txt (line 1)) (3.1.6)\n",
            "Requirement already satisfied: markupsafe~=2.0 in /home/joshua/.pyenv/versions/3.12.9/lib/python3.12/site-packages (from gradio->-r requirements.txt (line 1)) (2.1.5)\n",
            "Requirement already satisfied: numpy<3.0,>=1.0 in /home/joshua/.pyenv/versions/3.12.9/lib/python3.12/site-packages (from gradio->-r requirements.txt (line 1)) (2.2.4)\n",
            "Requirement already satisfied: orjson~=3.0 in /home/joshua/.pyenv/versions/3.12.9/lib/python3.12/site-packages (from gradio->-r requirements.txt (line 1)) (3.10.15)\n",
            "Requirement already satisfied: packaging in /home/joshua/.pyenv/versions/3.12.9/lib/python3.12/site-packages (from gradio->-r requirements.txt (line 1)) (24.2)\n",
            "Requirement already satisfied: pandas<3.0,>=1.0 in /home/joshua/.pyenv/versions/3.12.9/lib/python3.12/site-packages (from gradio->-r requirements.txt (line 1)) (2.2.3)\n",
            "Requirement already satisfied: pillow<12.0,>=8.0 in /home/joshua/.pyenv/versions/3.12.9/lib/python3.12/site-packages (from gradio->-r requirements.txt (line 1)) (11.1.0)\n",
            "Requirement already satisfied: pydantic>=2.0 in /home/joshua/.pyenv/versions/3.12.9/lib/python3.12/site-packages (from gradio->-r requirements.txt (line 1)) (2.10.6)\n",
            "Requirement already satisfied: pydub in /home/joshua/.pyenv/versions/3.12.9/lib/python3.12/site-packages (from gradio->-r requirements.txt (line 1)) (0.25.1)\n",
            "Requirement already satisfied: python-multipart>=0.0.18 in /home/joshua/.pyenv/versions/3.12.9/lib/python3.12/site-packages (from gradio->-r requirements.txt (line 1)) (0.0.20)\n",
            "Requirement already satisfied: pyyaml<7.0,>=5.0 in /home/joshua/.pyenv/versions/3.12.9/lib/python3.12/site-packages (from gradio->-r requirements.txt (line 1)) (6.0.2)\n",
            "Requirement already satisfied: ruff>=0.9.3 in /home/joshua/.pyenv/versions/3.12.9/lib/python3.12/site-packages (from gradio->-r requirements.txt (line 1)) (0.11.0)\n",
            "Requirement already satisfied: safehttpx<0.2.0,>=0.1.6 in /home/joshua/.pyenv/versions/3.12.9/lib/python3.12/site-packages (from gradio->-r requirements.txt (line 1)) (0.1.6)\n",
            "Requirement already satisfied: semantic-version~=2.0 in /home/joshua/.pyenv/versions/3.12.9/lib/python3.12/site-packages (from gradio->-r requirements.txt (line 1)) (2.10.0)\n",
            "Requirement already satisfied: starlette<1.0,>=0.40.0 in /home/joshua/.pyenv/versions/3.12.9/lib/python3.12/site-packages (from gradio->-r requirements.txt (line 1)) (0.46.1)\n",
            "Requirement already satisfied: tomlkit<0.14.0,>=0.12.0 in /home/joshua/.pyenv/versions/3.12.9/lib/python3.12/site-packages (from gradio->-r requirements.txt (line 1)) (0.13.2)\n",
            "Requirement already satisfied: typer<1.0,>=0.12 in /home/joshua/.pyenv/versions/3.12.9/lib/python3.12/site-packages (from gradio->-r requirements.txt (line 1)) (0.15.2)\n",
            "Requirement already satisfied: typing-extensions~=4.0 in /home/joshua/.pyenv/versions/3.12.9/lib/python3.12/site-packages (from gradio->-r requirements.txt (line 1)) (4.12.2)\n",
            "Requirement already satisfied: uvicorn>=0.14.0 in /home/joshua/.pyenv/versions/3.12.9/lib/python3.12/site-packages (from gradio->-r requirements.txt (line 1)) (0.34.0)\n",
            "Requirement already satisfied: fsspec in /home/joshua/.pyenv/versions/3.12.9/lib/python3.12/site-packages (from gradio_client->-r requirements.txt (line 3)) (2025.3.0)\n",
            "Requirement already satisfied: websockets<16.0,>=10.0 in /home/joshua/.pyenv/versions/3.12.9/lib/python3.12/site-packages (from gradio_client->-r requirements.txt (line 3)) (15.0.1)\n",
            "Requirement already satisfied: langchain-core<1.0.0,>=0.3.45 in /home/joshua/.pyenv/versions/3.12.9/lib/python3.12/site-packages (from langchain_openai->-r requirements.txt (line 2)) (0.3.45)\n",
            "Requirement already satisfied: tiktoken<1,>=0.7 in /home/joshua/.pyenv/versions/3.12.9/lib/python3.12/site-packages (from langchain_openai->-r requirements.txt (line 2)) (0.9.0)\n",
            "Requirement already satisfied: distro<2,>=1.7.0 in /home/joshua/.pyenv/versions/3.12.9/lib/python3.12/site-packages (from openai->-r requirements.txt (line 4)) (1.9.0)\n",
            "Requirement already satisfied: jiter<1,>=0.4.0 in /home/joshua/.pyenv/versions/3.12.9/lib/python3.12/site-packages (from openai->-r requirements.txt (line 4)) (0.9.0)\n",
            "Requirement already satisfied: sniffio in /home/joshua/.pyenv/versions/3.12.9/lib/python3.12/site-packages (from openai->-r requirements.txt (line 4)) (1.3.1)\n",
            "Requirement already satisfied: tqdm>4 in /home/joshua/.pyenv/versions/3.12.9/lib/python3.12/site-packages (from openai->-r requirements.txt (line 4)) (4.67.1)\n",
            "Requirement already satisfied: plum-dispatch==1.7.4 in /home/joshua/.pyenv/versions/3.12.9/lib/python3.12/site-packages (from Spire.Doc->-r requirements.txt (line 5)) (1.7.4)\n",
            "Requirement already satisfied: idna>=2.8 in /home/joshua/.pyenv/versions/3.12.9/lib/python3.12/site-packages (from anyio<5.0,>=3.0->gradio->-r requirements.txt (line 1)) (3.10)\n",
            "Requirement already satisfied: certifi in /home/joshua/.pyenv/versions/3.12.9/lib/python3.12/site-packages (from httpx>=0.24.1->gradio->-r requirements.txt (line 1)) (2025.1.31)\n",
            "Requirement already satisfied: httpcore==1.* in /home/joshua/.pyenv/versions/3.12.9/lib/python3.12/site-packages (from httpx>=0.24.1->gradio->-r requirements.txt (line 1)) (1.0.7)\n",
            "Requirement already satisfied: h11<0.15,>=0.13 in /home/joshua/.pyenv/versions/3.12.9/lib/python3.12/site-packages (from httpcore==1.*->httpx>=0.24.1->gradio->-r requirements.txt (line 1)) (0.14.0)\n",
            "Requirement already satisfied: filelock in /home/joshua/.pyenv/versions/3.12.9/lib/python3.12/site-packages (from huggingface-hub>=0.28.1->gradio->-r requirements.txt (line 1)) (3.18.0)\n",
            "Requirement already satisfied: requests in /home/joshua/.pyenv/versions/3.12.9/lib/python3.12/site-packages (from huggingface-hub>=0.28.1->gradio->-r requirements.txt (line 1)) (2.32.3)\n",
            "Requirement already satisfied: langsmith<0.4,>=0.1.125 in /home/joshua/.pyenv/versions/3.12.9/lib/python3.12/site-packages (from langchain-core<1.0.0,>=0.3.45->langchain_openai->-r requirements.txt (line 2)) (0.3.15)\n",
            "Requirement already satisfied: tenacity!=8.4.0,<10.0.0,>=8.1.0 in /home/joshua/.pyenv/versions/3.12.9/lib/python3.12/site-packages (from langchain-core<1.0.0,>=0.3.45->langchain_openai->-r requirements.txt (line 2)) (9.0.0)\n",
            "Requirement already satisfied: jsonpatch<2.0,>=1.33 in /home/joshua/.pyenv/versions/3.12.9/lib/python3.12/site-packages (from langchain-core<1.0.0,>=0.3.45->langchain_openai->-r requirements.txt (line 2)) (1.33)\n",
            "Requirement already satisfied: python-dateutil>=2.8.2 in /home/joshua/.pyenv/versions/3.12.9/lib/python3.12/site-packages (from pandas<3.0,>=1.0->gradio->-r requirements.txt (line 1)) (2.9.0.post0)\n",
            "Requirement already satisfied: pytz>=2020.1 in /home/joshua/.pyenv/versions/3.12.9/lib/python3.12/site-packages (from pandas<3.0,>=1.0->gradio->-r requirements.txt (line 1)) (2025.1)\n",
            "Requirement already satisfied: tzdata>=2022.7 in /home/joshua/.pyenv/versions/3.12.9/lib/python3.12/site-packages (from pandas<3.0,>=1.0->gradio->-r requirements.txt (line 1)) (2025.1)\n",
            "Requirement already satisfied: annotated-types>=0.6.0 in /home/joshua/.pyenv/versions/3.12.9/lib/python3.12/site-packages (from pydantic>=2.0->gradio->-r requirements.txt (line 1)) (0.7.0)\n",
            "Requirement already satisfied: pydantic-core==2.27.2 in /home/joshua/.pyenv/versions/3.12.9/lib/python3.12/site-packages (from pydantic>=2.0->gradio->-r requirements.txt (line 1)) (2.27.2)\n",
            "Requirement already satisfied: regex>=2022.1.18 in /home/joshua/.pyenv/versions/3.12.9/lib/python3.12/site-packages (from tiktoken<1,>=0.7->langchain_openai->-r requirements.txt (line 2)) (2024.11.6)\n",
            "Requirement already satisfied: click>=8.0.0 in /home/joshua/.pyenv/versions/3.12.9/lib/python3.12/site-packages (from typer<1.0,>=0.12->gradio->-r requirements.txt (line 1)) (8.1.8)\n",
            "Requirement already satisfied: shellingham>=1.3.0 in /home/joshua/.pyenv/versions/3.12.9/lib/python3.12/site-packages (from typer<1.0,>=0.12->gradio->-r requirements.txt (line 1)) (1.5.4)\n",
            "Requirement already satisfied: rich>=10.11.0 in /home/joshua/.pyenv/versions/3.12.9/lib/python3.12/site-packages (from typer<1.0,>=0.12->gradio->-r requirements.txt (line 1)) (13.9.4)\n",
            "Requirement already satisfied: jsonpointer>=1.9 in /home/joshua/.pyenv/versions/3.12.9/lib/python3.12/site-packages (from jsonpatch<2.0,>=1.33->langchain-core<1.0.0,>=0.3.45->langchain_openai->-r requirements.txt (line 2)) (3.0.0)\n",
            "Requirement already satisfied: requests-toolbelt<2.0.0,>=1.0.0 in /home/joshua/.pyenv/versions/3.12.9/lib/python3.12/site-packages (from langsmith<0.4,>=0.1.125->langchain-core<1.0.0,>=0.3.45->langchain_openai->-r requirements.txt (line 2)) (1.0.0)\n",
            "Requirement already satisfied: zstandard<0.24.0,>=0.23.0 in /home/joshua/.pyenv/versions/3.12.9/lib/python3.12/site-packages (from langsmith<0.4,>=0.1.125->langchain-core<1.0.0,>=0.3.45->langchain_openai->-r requirements.txt (line 2)) (0.23.0)\n",
            "Requirement already satisfied: six>=1.5 in /home/joshua/.pyenv/versions/3.12.9/lib/python3.12/site-packages (from python-dateutil>=2.8.2->pandas<3.0,>=1.0->gradio->-r requirements.txt (line 1)) (1.17.0)\n",
            "Requirement already satisfied: charset-normalizer<4,>=2 in /home/joshua/.pyenv/versions/3.12.9/lib/python3.12/site-packages (from requests->huggingface-hub>=0.28.1->gradio->-r requirements.txt (line 1)) (3.4.1)\n",
            "Requirement already satisfied: urllib3<3,>=1.21.1 in /home/joshua/.pyenv/versions/3.12.9/lib/python3.12/site-packages (from requests->huggingface-hub>=0.28.1->gradio->-r requirements.txt (line 1)) (2.3.0)\n",
            "Requirement already satisfied: markdown-it-py>=2.2.0 in /home/joshua/.pyenv/versions/3.12.9/lib/python3.12/site-packages (from rich>=10.11.0->typer<1.0,>=0.12->gradio->-r requirements.txt (line 1)) (3.0.0)\n",
            "Requirement already satisfied: pygments<3.0.0,>=2.13.0 in /home/joshua/.pyenv/versions/3.12.9/lib/python3.12/site-packages (from rich>=10.11.0->typer<1.0,>=0.12->gradio->-r requirements.txt (line 1)) (2.19.1)\n",
            "Requirement already satisfied: mdurl~=0.1 in /home/joshua/.pyenv/versions/3.12.9/lib/python3.12/site-packages (from markdown-it-py>=2.2.0->rich>=10.11.0->typer<1.0,>=0.12->gradio->-r requirements.txt (line 1)) (0.1.2)\n",
            "\n",
            "\u001b[1m[\u001b[0m\u001b[34;49mnotice\u001b[0m\u001b[1;39;49m]\u001b[0m\u001b[39;49m A new release of pip is available: \u001b[0m\u001b[31;49m24.3.1\u001b[0m\u001b[39;49m -> \u001b[0m\u001b[32;49m25.0.1\u001b[0m\n",
            "\u001b[1m[\u001b[0m\u001b[34;49mnotice\u001b[0m\u001b[1;39;49m]\u001b[0m\u001b[39;49m To update, run: \u001b[0m\u001b[32;49m/home/joshua/.pyenv/versions/3.12.9/bin/python -m pip install --upgrade pip\u001b[0m\n",
            "Note: you may need to restart the kernel to use updated packages.\n"
          ]
        }
      ],
      "source": [
        "%pip install -r requirements.txt"
      ]
    },
    {
      "cell_type": "markdown",
      "metadata": {
        "id": "n6U7apAmpXla"
      },
      "source": [
        "**--Import modules (youre working on)**\n",
        "<br>*each of our classes will be what will merge to this notebook (im p sure)*\n",
        "<br>only loads what you explicitly request\n",
        "<br>(this helps keep memory low and import fast)\n",
        "<br> *the following is an example with my Rubric module*"
      ]
    },
    {
      "cell_type": "code",
      "execution_count": 5,
      "metadata": {
        "id": "RRdoHlvYlOpo"
      },
      "outputs": [
        {
          "name": "stderr",
          "output_type": "stream",
          "text": [
            "/home/joshua/.pyenv/versions/3.12.9/lib/python3.12/site-packages/tqdm/auto.py:21: TqdmWarning: IProgress not found. Please update jupyter and ipywidgets. See https://ipywidgets.readthedocs.io/en/stable/user_install.html\n",
            "  from .autonotebook import tqdm as notebook_tqdm\n"
          ]
        },
        {
          "ename": "ImportError",
          "evalue": "cannot import name 'generate_feedback' from 'tropos.models.gpt' (/home/joshua/Development/tropes/project/tropos/models/gpt.py)",
          "output_type": "error",
          "traceback": [
            "\u001b[31m---------------------------------------------------------------------------\u001b[39m",
            "\u001b[31mImportError\u001b[39m                               Traceback (most recent call last)",
            "\u001b[36mCell\u001b[39m\u001b[36m \u001b[39m\u001b[32mIn[5]\u001b[39m\u001b[32m, line 2\u001b[39m\n\u001b[32m      1\u001b[39m \u001b[38;5;66;03m# Import and call main function\u001b[39;00m\n\u001b[32m----> \u001b[39m\u001b[32m2\u001b[39m \u001b[38;5;28;01mfrom\u001b[39;00m\u001b[38;5;250m \u001b[39m\u001b[34;01mtropos\u001b[39;00m\u001b[38;5;250m \u001b[39m\u001b[38;5;28;01mimport\u001b[39;00m main\n\u001b[32m      3\u001b[39m main()\n",
            "\u001b[36mFile \u001b[39m\u001b[32m~/Development/tropes/project/tropos/__init__.py:3\u001b[39m\n\u001b[32m      1\u001b[39m \u001b[38;5;66;03m# This file marks tropos as a Python package.\u001b[39;00m\n\u001b[32m----> \u001b[39m\u001b[32m3\u001b[39m \u001b[38;5;28;01mfrom\u001b[39;00m\u001b[38;5;250m \u001b[39m\u001b[34;01m.\u001b[39;00m\u001b[34;01mmodels\u001b[39;00m\u001b[34;01m.\u001b[39;00m\u001b[34;01mgpt\u001b[39;00m\u001b[38;5;250m \u001b[39m\u001b[38;5;28;01mimport\u001b[39;00m generate_feedback\n\u001b[32m      4\u001b[39m \u001b[38;5;28;01mfrom\u001b[39;00m\u001b[38;5;250m \u001b[39m\u001b[34;01m.\u001b[39;00m\u001b[34;01mmodels\u001b[39;00m\u001b[34;01m.\u001b[39;00m\u001b[34;01mtrained\u001b[39;00m\u001b[38;5;250m \u001b[39m\u001b[38;5;28;01mimport\u001b[39;00m load_model\n\u001b[32m      6\u001b[39m \u001b[38;5;28;01mfrom\u001b[39;00m\u001b[38;5;250m \u001b[39m\u001b[34;01m.\u001b[39;00m\u001b[34;01mpreprocess_docx\u001b[39;00m\u001b[34;01m.\u001b[39;00m\u001b[34;01mrubric\u001b[39;00m\u001b[38;5;250m \u001b[39m\u001b[38;5;28;01mimport\u001b[39;00m parse_rubric\n",
            "\u001b[31mImportError\u001b[39m: cannot import name 'generate_feedback' from 'tropos.models.gpt' (/home/joshua/Development/tropes/project/tropos/models/gpt.py)"
          ]
        }
      ],
      "source": [
        "# Import and call main function\n",
        "from tropos import main\n",
        "main()"
      ]
    }
  ],
  "metadata": {
    "colab": {
      "provenance": []
    },
    "kernelspec": {
      "display_name": "Python 3",
      "name": "python3"
    },
    "language_info": {
      "codemirror_mode": {
        "name": "ipython",
        "version": 3
      },
      "file_extension": ".py",
      "mimetype": "text/x-python",
      "name": "python",
      "nbconvert_exporter": "python",
      "pygments_lexer": "ipython3",
      "version": "3.12.9"
    }
  },
  "nbformat": 4,
  "nbformat_minor": 0
}
